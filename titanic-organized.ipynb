{
 "cells": [
  {
   "cell_type": "markdown",
   "id": "5f210feb",
   "metadata": {
    "papermill": {
     "duration": 0.019659,
     "end_time": "2024-05-29T18:17:12.584543",
     "exception": false,
     "start_time": "2024-05-29T18:17:12.564884",
     "status": "completed"
    },
    "tags": []
   },
   "source": [
    "# TITANIC COMPETITION: First Kaggle Compet :)\n",
    "\n",
    "## 1. Understand Data\n",
    "## 2. Handle missing data\n",
    "## 3. Feature Engineering\n",
    "## 4. Compare ML models( Linear regression, KNN, Random forest, Support Vector Classifier..)\n",
    "## 5. Parameter Tunning per model\n",
    "## 6. Ensembles Classifier\n",
    "## 7. Best results"
   ]
  },
  {
   "cell_type": "code",
   "execution_count": 1,
   "id": "23d92f13",
   "metadata": {
    "_cell_guid": "b1076dfc-b9ad-4769-8c92-a6c4dae69d19",
    "_uuid": "8f2839f25d086af736a60e9eeb907d3b93b6e0e5",
    "execution": {
     "iopub.execute_input": "2024-05-29T18:17:12.623484Z",
     "iopub.status.busy": "2024-05-29T18:17:12.622499Z",
     "iopub.status.idle": "2024-05-29T18:17:15.464423Z",
     "shell.execute_reply": "2024-05-29T18:17:15.462850Z"
    },
    "papermill": {
     "duration": 2.865037,
     "end_time": "2024-05-29T18:17:15.467686",
     "exception": false,
     "start_time": "2024-05-29T18:17:12.602649",
     "status": "completed"
    },
    "tags": []
   },
   "outputs": [
    {
     "name": "stdout",
     "output_type": "stream",
     "text": [
      "/kaggle/input/titanic/train.csv\n",
      "/kaggle/input/titanic/test.csv\n",
      "/kaggle/input/titanic/gender_submission.csv\n"
     ]
    }
   ],
   "source": [
    "# This Python 3 environment comes with many helpful analytics libraries installed\n",
    "# It is defined by the kaggle/python Docker image: https://github.com/kaggle/docker-python\n",
    "# For example, here's several helpful packages to load\n",
    "\n",
    "import numpy as np # linear algebra\n",
    "import pandas as pd # data processing, CSV file I/O (e.g. pd.read_csv)\n",
    "from sklearn.metrics import accuracy_score\n",
    "\n",
    "# Input data files are available in the read-only \"../input/\" directory\n",
    "# For example, running this (by clicking run or pressing Shift+Enter) will list all files under the input directory\n",
    "\n",
    "import os\n",
    "for dirname, _, filenames in os.walk('/kaggle/input'):\n",
    "    for filename in filenames:\n",
    "        print(os.path.join(dirname, filename))\n",
    "\n",
    "# You can write up to 20GB to the current directory (/kaggle/working/) that gets preserved as output when you create a version using \"Save & Run All\" \n",
    "# You can also write temporary files to /kaggle/temp/, but they won't be saved outside of the current session"
   ]
  },
  {
   "cell_type": "code",
   "execution_count": 2,
   "id": "5a5bd5ed",
   "metadata": {
    "execution": {
     "iopub.execute_input": "2024-05-29T18:17:15.509071Z",
     "iopub.status.busy": "2024-05-29T18:17:15.508356Z",
     "iopub.status.idle": "2024-05-29T18:17:15.578334Z",
     "shell.execute_reply": "2024-05-29T18:17:15.576690Z"
    },
    "papermill": {
     "duration": 0.095814,
     "end_time": "2024-05-29T18:17:15.581501",
     "exception": false,
     "start_time": "2024-05-29T18:17:15.485687",
     "status": "completed"
    },
    "tags": []
   },
   "outputs": [
    {
     "data": {
      "text/html": [
       "<div>\n",
       "<style scoped>\n",
       "    .dataframe tbody tr th:only-of-type {\n",
       "        vertical-align: middle;\n",
       "    }\n",
       "\n",
       "    .dataframe tbody tr th {\n",
       "        vertical-align: top;\n",
       "    }\n",
       "\n",
       "    .dataframe thead th {\n",
       "        text-align: right;\n",
       "    }\n",
       "</style>\n",
       "<table border=\"1\" class=\"dataframe\">\n",
       "  <thead>\n",
       "    <tr style=\"text-align: right;\">\n",
       "      <th></th>\n",
       "      <th>PassengerId</th>\n",
       "      <th>Survived</th>\n",
       "      <th>Pclass</th>\n",
       "      <th>Name</th>\n",
       "      <th>Sex</th>\n",
       "      <th>Age</th>\n",
       "      <th>SibSp</th>\n",
       "      <th>Parch</th>\n",
       "      <th>Ticket</th>\n",
       "      <th>Fare</th>\n",
       "      <th>Cabin</th>\n",
       "      <th>Embarked</th>\n",
       "    </tr>\n",
       "  </thead>\n",
       "  <tbody>\n",
       "    <tr>\n",
       "      <th>0</th>\n",
       "      <td>1</td>\n",
       "      <td>0</td>\n",
       "      <td>3</td>\n",
       "      <td>Braund, Mr. Owen Harris</td>\n",
       "      <td>male</td>\n",
       "      <td>22.0</td>\n",
       "      <td>1</td>\n",
       "      <td>0</td>\n",
       "      <td>A/5 21171</td>\n",
       "      <td>7.2500</td>\n",
       "      <td>NaN</td>\n",
       "      <td>S</td>\n",
       "    </tr>\n",
       "    <tr>\n",
       "      <th>1</th>\n",
       "      <td>2</td>\n",
       "      <td>1</td>\n",
       "      <td>1</td>\n",
       "      <td>Cumings, Mrs. John Bradley (Florence Briggs Th...</td>\n",
       "      <td>female</td>\n",
       "      <td>38.0</td>\n",
       "      <td>1</td>\n",
       "      <td>0</td>\n",
       "      <td>PC 17599</td>\n",
       "      <td>71.2833</td>\n",
       "      <td>C85</td>\n",
       "      <td>C</td>\n",
       "    </tr>\n",
       "    <tr>\n",
       "      <th>2</th>\n",
       "      <td>3</td>\n",
       "      <td>1</td>\n",
       "      <td>3</td>\n",
       "      <td>Heikkinen, Miss. Laina</td>\n",
       "      <td>female</td>\n",
       "      <td>26.0</td>\n",
       "      <td>0</td>\n",
       "      <td>0</td>\n",
       "      <td>STON/O2. 3101282</td>\n",
       "      <td>7.9250</td>\n",
       "      <td>NaN</td>\n",
       "      <td>S</td>\n",
       "    </tr>\n",
       "    <tr>\n",
       "      <th>3</th>\n",
       "      <td>4</td>\n",
       "      <td>1</td>\n",
       "      <td>1</td>\n",
       "      <td>Futrelle, Mrs. Jacques Heath (Lily May Peel)</td>\n",
       "      <td>female</td>\n",
       "      <td>35.0</td>\n",
       "      <td>1</td>\n",
       "      <td>0</td>\n",
       "      <td>113803</td>\n",
       "      <td>53.1000</td>\n",
       "      <td>C123</td>\n",
       "      <td>S</td>\n",
       "    </tr>\n",
       "    <tr>\n",
       "      <th>4</th>\n",
       "      <td>5</td>\n",
       "      <td>0</td>\n",
       "      <td>3</td>\n",
       "      <td>Allen, Mr. William Henry</td>\n",
       "      <td>male</td>\n",
       "      <td>35.0</td>\n",
       "      <td>0</td>\n",
       "      <td>0</td>\n",
       "      <td>373450</td>\n",
       "      <td>8.0500</td>\n",
       "      <td>NaN</td>\n",
       "      <td>S</td>\n",
       "    </tr>\n",
       "  </tbody>\n",
       "</table>\n",
       "</div>"
      ],
      "text/plain": [
       "   PassengerId  Survived  Pclass  \\\n",
       "0            1         0       3   \n",
       "1            2         1       1   \n",
       "2            3         1       3   \n",
       "3            4         1       1   \n",
       "4            5         0       3   \n",
       "\n",
       "                                                Name     Sex   Age  SibSp  \\\n",
       "0                            Braund, Mr. Owen Harris    male  22.0      1   \n",
       "1  Cumings, Mrs. John Bradley (Florence Briggs Th...  female  38.0      1   \n",
       "2                             Heikkinen, Miss. Laina  female  26.0      0   \n",
       "3       Futrelle, Mrs. Jacques Heath (Lily May Peel)  female  35.0      1   \n",
       "4                           Allen, Mr. William Henry    male  35.0      0   \n",
       "\n",
       "   Parch            Ticket     Fare Cabin Embarked  \n",
       "0      0         A/5 21171   7.2500   NaN        S  \n",
       "1      0          PC 17599  71.2833   C85        C  \n",
       "2      0  STON/O2. 3101282   7.9250   NaN        S  \n",
       "3      0            113803  53.1000  C123        S  \n",
       "4      0            373450   8.0500   NaN        S  "
      ]
     },
     "execution_count": 2,
     "metadata": {},
     "output_type": "execute_result"
    }
   ],
   "source": [
    "# Load the data\n",
    "train_data = pd.read_csv(\"/kaggle/input/titanic/train.csv\")\n",
    "test_data = pd.read_csv(\"/kaggle/input/titanic/test.csv\")\n",
    "\n",
    "# Check the data\n",
    "train_data.head()"
   ]
  },
  {
   "cell_type": "code",
   "execution_count": 3,
   "id": "9c34fb54",
   "metadata": {
    "execution": {
     "iopub.execute_input": "2024-05-29T18:17:15.620358Z",
     "iopub.status.busy": "2024-05-29T18:17:15.619800Z",
     "iopub.status.idle": "2024-05-29T18:17:15.657054Z",
     "shell.execute_reply": "2024-05-29T18:17:15.655789Z"
    },
    "papermill": {
     "duration": 0.060897,
     "end_time": "2024-05-29T18:17:15.660588",
     "exception": false,
     "start_time": "2024-05-29T18:17:15.599691",
     "status": "completed"
    },
    "tags": []
   },
   "outputs": [
    {
     "name": "stdout",
     "output_type": "stream",
     "text": [
      "<class 'pandas.core.frame.DataFrame'>\n",
      "RangeIndex: 891 entries, 0 to 890\n",
      "Data columns (total 12 columns):\n",
      " #   Column       Non-Null Count  Dtype  \n",
      "---  ------       --------------  -----  \n",
      " 0   PassengerId  891 non-null    int64  \n",
      " 1   Survived     891 non-null    int64  \n",
      " 2   Pclass       891 non-null    int64  \n",
      " 3   Name         891 non-null    object \n",
      " 4   Sex          891 non-null    object \n",
      " 5   Age          714 non-null    float64\n",
      " 6   SibSp        891 non-null    int64  \n",
      " 7   Parch        891 non-null    int64  \n",
      " 8   Ticket       891 non-null    object \n",
      " 9   Fare         891 non-null    float64\n",
      " 10  Cabin        204 non-null    object \n",
      " 11  Embarked     889 non-null    object \n",
      "dtypes: float64(2), int64(5), object(5)\n",
      "memory usage: 83.7+ KB\n"
     ]
    }
   ],
   "source": [
    "#quick look at our data types & null counts \n",
    "train_data.info()"
   ]
  },
  {
   "cell_type": "markdown",
   "id": "9b1aaf29",
   "metadata": {
    "papermill": {
     "duration": 0.018361,
     "end_time": "2024-05-29T18:17:15.698689",
     "exception": false,
     "start_time": "2024-05-29T18:17:15.680328",
     "status": "completed"
    },
    "tags": []
   },
   "source": [
    "Age, Embarked and Cabin have \"NAN\" values especially Cabin which 204 non-null values so we need to fill in missing data for these features."
   ]
  },
  {
   "cell_type": "markdown",
   "id": "bf7f0048",
   "metadata": {
    "papermill": {
     "duration": 0.018776,
     "end_time": "2024-05-29T18:17:15.736044",
     "exception": false,
     "start_time": "2024-05-29T18:17:15.717268",
     "status": "completed"
    },
    "tags": []
   },
   "source": [
    "# Understand Data"
   ]
  },
  {
   "cell_type": "code",
   "execution_count": 4,
   "id": "3f00ceac",
   "metadata": {
    "execution": {
     "iopub.execute_input": "2024-05-29T18:17:15.775394Z",
     "iopub.status.busy": "2024-05-29T18:17:15.774855Z",
     "iopub.status.idle": "2024-05-29T18:17:16.293495Z",
     "shell.execute_reply": "2024-05-29T18:17:16.292026Z"
    },
    "papermill": {
     "duration": 0.542411,
     "end_time": "2024-05-29T18:17:16.297028",
     "exception": false,
     "start_time": "2024-05-29T18:17:15.754617",
     "status": "completed"
    },
    "tags": []
   },
   "outputs": [],
   "source": [
    "import matplotlib.pyplot as plt\n",
    "import seaborn as sns"
   ]
  },
  {
   "cell_type": "code",
   "execution_count": 5,
   "id": "259e5640",
   "metadata": {
    "execution": {
     "iopub.execute_input": "2024-05-29T18:17:16.336801Z",
     "iopub.status.busy": "2024-05-29T18:17:16.336320Z",
     "iopub.status.idle": "2024-05-29T18:17:16.695333Z",
     "shell.execute_reply": "2024-05-29T18:17:16.693844Z"
    },
    "papermill": {
     "duration": 0.382162,
     "end_time": "2024-05-29T18:17:16.698345",
     "exception": false,
     "start_time": "2024-05-29T18:17:16.316183",
     "status": "completed"
    },
    "tags": []
   },
   "outputs": [
    {
     "data": {
      "image/png": "[encoded data removed]",
      "text/plain": [
       "<Figure size 800x600 with 1 Axes>"
      ]
     },
     "metadata": {},
     "output_type": "display_data"
    }
   ],
   "source": [
    "# Plot 1: Impact of Pclass on Survival\n",
    "\n",
    "plt.figure(figsize=(8, 6))\n",
    "sns.countplot(x='Pclass', hue='Survived', data=train_data)\n",
    "plt.title('Survival Count by Pclass')\n",
    "plt.xlabel('Pclass')\n",
    "plt.ylabel('Count')\n",
    "plt.legend(title='Survived', loc='upper right')\n",
    "plt.show()"
   ]
  },
  {
   "cell_type": "markdown",
   "id": "2d61f75f",
   "metadata": {
    "papermill": {
     "duration": 0.01839,
     "end_time": "2024-05-29T18:17:16.735533",
     "exception": false,
     "start_time": "2024-05-29T18:17:16.717143",
     "status": "completed"
    },
    "tags": []
   },
   "source": [
    "Impact of Pclass on Survival Higher class passengers (Pclass 1) had higher survival rates. This plot shows the survival counts by passenger class (Pclass), with more passengers in higher classes surviving compared to lower classes."
   ]
  },
  {
   "cell_type": "code",
   "execution_count": 6,
   "id": "593565f4",
   "metadata": {
    "execution": {
     "iopub.execute_input": "2024-05-29T18:17:16.774048Z",
     "iopub.status.busy": "2024-05-29T18:17:16.773603Z",
     "iopub.status.idle": "2024-05-29T18:17:17.047390Z",
     "shell.execute_reply": "2024-05-29T18:17:17.046188Z"
    },
    "papermill": {
     "duration": 0.296554,
     "end_time": "2024-05-29T18:17:17.050211",
     "exception": false,
     "start_time": "2024-05-29T18:17:16.753657",
     "status": "completed"
    },
    "tags": []
   },
   "outputs": [
    {
     "data": {
      "image/png": "[encoded data removed]",
      "text/plain": [
       "<Figure size 800x600 with 1 Axes>"
      ]
     },
     "metadata": {},
     "output_type": "display_data"
    }
   ],
   "source": [
    "# Plot 2: Impact of Sex on Survival\n",
    "plt.figure(figsize=(8, 6))\n",
    "sns.countplot(x='Sex', hue='Survived', data=train_data)\n",
    "plt.title('Survival Count by Sex')\n",
    "plt.xlabel('Sex')\n",
    "plt.ylabel('Count')\n",
    "plt.legend(title='Survived', loc='upper right')\n",
    "plt.show()"
   ]
  },
  {
   "cell_type": "markdown",
   "id": "7d2fa59e",
   "metadata": {
    "papermill": {
     "duration": 0.018293,
     "end_time": "2024-05-29T18:17:17.087506",
     "exception": false,
     "start_time": "2024-05-29T18:17:17.069213",
     "status": "completed"
    },
    "tags": []
   },
   "source": [
    "Women survived way more than men. It is explained by prioritizing the survival of Women and children in the incident (conventional)."
   ]
  },
  {
   "cell_type": "code",
   "execution_count": 7,
   "id": "73a7f238",
   "metadata": {
    "execution": {
     "iopub.execute_input": "2024-05-29T18:17:17.126822Z",
     "iopub.status.busy": "2024-05-29T18:17:17.126196Z",
     "iopub.status.idle": "2024-05-29T18:17:17.449105Z",
     "shell.execute_reply": "2024-05-29T18:17:17.447857Z"
    },
    "papermill": {
     "duration": 0.345938,
     "end_time": "2024-05-29T18:17:17.451876",
     "exception": false,
     "start_time": "2024-05-29T18:17:17.105938",
     "status": "completed"
    },
    "tags": []
   },
   "outputs": [
    {
     "data": {
      "image/png": "[encoded data removed]",
      "text/plain": [
       "<Figure size 800x600 with 1 Axes>"
      ]
     },
     "metadata": {},
     "output_type": "display_data"
    }
   ],
   "source": [
    "# Plot 3: Impact of Embarked on Survival\n",
    "plt.figure(figsize=(8, 6))\n",
    "sns.countplot(x='Embarked', hue='Survived', data=train_data)\n",
    "plt.title('Survival Count by Embarked')\n",
    "plt.xlabel('Embarked')\n",
    "plt.ylabel('Count')\n",
    "plt.legend(title='Survived', loc='upper right')\n",
    "plt.show()"
   ]
  },
  {
   "cell_type": "markdown",
   "id": "9003a6fb",
   "metadata": {
    "papermill": {
     "duration": 0.018744,
     "end_time": "2024-05-29T18:17:17.490631",
     "exception": false,
     "start_time": "2024-05-29T18:17:17.471887",
     "status": "completed"
    },
    "tags": []
   },
   "source": [
    "Embarked S is the most dangerous"
   ]
  },
  {
   "cell_type": "code",
   "execution_count": 8,
   "id": "abfc0ded",
   "metadata": {
    "execution": {
     "iopub.execute_input": "2024-05-29T18:17:17.534015Z",
     "iopub.status.busy": "2024-05-29T18:17:17.533485Z",
     "iopub.status.idle": "2024-05-29T18:17:18.250935Z",
     "shell.execute_reply": "2024-05-29T18:17:18.249218Z"
    },
    "papermill": {
     "duration": 0.743245,
     "end_time": "2024-05-29T18:17:18.254270",
     "exception": false,
     "start_time": "2024-05-29T18:17:17.511025",
     "status": "completed"
    },
    "tags": []
   },
   "outputs": [
    {
     "name": "stderr",
     "output_type": "stream",
     "text": [
      "/opt/conda/lib/python3.10/site-packages/seaborn/_oldcore.py:1119: FutureWarning: use_inf_as_na option is deprecated and will be removed in a future version. Convert inf values to NaN before operating instead.\n",
      "  with pd.option_context('mode.use_inf_as_na', True):\n",
      "/opt/conda/lib/python3.10/site-packages/seaborn/_oldcore.py:1075: FutureWarning: When grouping with a length-1 list-like, you will need to pass a length-1 tuple to get_group in a future version of pandas. Pass `(name,)` instead of `name` to silence this warning.\n",
      "  data_subset = grouped_data.get_group(pd_key)\n",
      "/opt/conda/lib/python3.10/site-packages/seaborn/_oldcore.py:1075: FutureWarning: When grouping with a length-1 list-like, you will need to pass a length-1 tuple to get_group in a future version of pandas. Pass `(name,)` instead of `name` to silence this warning.\n",
      "  data_subset = grouped_data.get_group(pd_key)\n"
     ]
    },
    {
     "data": {
      "image/png": "[encoded data removed]",
      "text/plain": [
       "<Figure size 800x600 with 1 Axes>"
      ]
     },
     "metadata": {},
     "output_type": "display_data"
    }
   ],
   "source": [
    "# Plot 4: Impact of Age on Survival\n",
    "plt.figure(figsize=(8, 6))\n",
    "sns.histplot(data=train_data, x='Age', hue='Survived', kde=True, bins=30)\n",
    "plt.title('Survival Distribution by Age')\n",
    "plt.xlabel('Age')\n",
    "plt.ylabel('Density')\n",
    "plt.show()"
   ]
  },
  {
   "cell_type": "markdown",
   "id": "83405c96",
   "metadata": {
    "papermill": {
     "duration": 0.020525,
     "end_time": "2024-05-29T18:17:18.296889",
     "exception": false,
     "start_time": "2024-05-29T18:17:18.276364",
     "status": "completed"
    },
    "tags": []
   },
   "source": [
    "Younger passengers had slightly higher survival rates. The distribution looks already normalized. "
   ]
  },
  {
   "cell_type": "code",
   "execution_count": 9,
   "id": "d0df3d79",
   "metadata": {
    "execution": {
     "iopub.execute_input": "2024-05-29T18:17:18.341836Z",
     "iopub.status.busy": "2024-05-29T18:17:18.341327Z",
     "iopub.status.idle": "2024-05-29T18:17:18.919807Z",
     "shell.execute_reply": "2024-05-29T18:17:18.918478Z"
    },
    "papermill": {
     "duration": 0.603508,
     "end_time": "2024-05-29T18:17:18.922436",
     "exception": false,
     "start_time": "2024-05-29T18:17:18.318928",
     "status": "completed"
    },
    "tags": []
   },
   "outputs": [
    {
     "name": "stderr",
     "output_type": "stream",
     "text": [
      "/opt/conda/lib/python3.10/site-packages/seaborn/_oldcore.py:1119: FutureWarning: use_inf_as_na option is deprecated and will be removed in a future version. Convert inf values to NaN before operating instead.\n",
      "  with pd.option_context('mode.use_inf_as_na', True):\n",
      "/opt/conda/lib/python3.10/site-packages/seaborn/_oldcore.py:1075: FutureWarning: When grouping with a length-1 list-like, you will need to pass a length-1 tuple to get_group in a future version of pandas. Pass `(name,)` instead of `name` to silence this warning.\n",
      "  data_subset = grouped_data.get_group(pd_key)\n",
      "/opt/conda/lib/python3.10/site-packages/seaborn/_oldcore.py:1075: FutureWarning: When grouping with a length-1 list-like, you will need to pass a length-1 tuple to get_group in a future version of pandas. Pass `(name,)` instead of `name` to silence this warning.\n",
      "  data_subset = grouped_data.get_group(pd_key)\n"
     ]
    },
    {
     "data": {
      "image/png": "[encoded data removed]",
      "text/plain": [
       "<Figure size 800x600 with 1 Axes>"
      ]
     },
     "metadata": {},
     "output_type": "display_data"
    }
   ],
   "source": [
    "# Plot 5: Impact of Fare on Survival\n",
    "plt.figure(figsize=(8, 6))\n",
    "sns.histplot(data=train_data, x='Fare', hue='Survived', kde=True, bins=30)\n",
    "plt.title('Survival Distribution by Fare')\n",
    "plt.xlabel('Fare')\n",
    "plt.ylabel('Density')\n",
    "plt.text(200, 0.015, 'Passengers who paid higher fares had higher survival rates.', ha='center')\n",
    "plt.show()"
   ]
  },
  {
   "cell_type": "markdown",
   "id": "c398d65b",
   "metadata": {
    "papermill": {
     "duration": 0.020632,
     "end_time": "2024-05-29T18:17:18.964204",
     "exception": false,
     "start_time": "2024-05-29T18:17:18.943572",
     "status": "completed"
    },
    "tags": []
   },
   "source": [
    "Higher fares, higher survival rate"
   ]
  },
  {
   "cell_type": "code",
   "execution_count": 10,
   "id": "2609687b",
   "metadata": {
    "execution": {
     "iopub.execute_input": "2024-05-29T18:17:19.009058Z",
     "iopub.status.busy": "2024-05-29T18:17:19.008647Z",
     "iopub.status.idle": "2024-05-29T18:17:19.470758Z",
     "shell.execute_reply": "2024-05-29T18:17:19.469563Z"
    },
    "papermill": {
     "duration": 0.488055,
     "end_time": "2024-05-29T18:17:19.473413",
     "exception": false,
     "start_time": "2024-05-29T18:17:18.985358",
     "status": "completed"
    },
    "tags": []
   },
   "outputs": [
    {
     "data": {
      "image/png": "[encoded data removed]",
      "text/plain": [
       "<Figure size 1200x600 with 1 Axes>"
      ]
     },
     "metadata": {},
     "output_type": "display_data"
    }
   ],
   "source": [
    "# Plot 7: Impact of Title on Survival\n",
    "train_data['Title'] = train_data['Name'].str.extract(' ([A-Za-z]+)\\.', expand=False)\n",
    "\n",
    "plt.figure(figsize=(12, 6))\n",
    "sns.countplot(x='Title', hue='Survived', data=train_data)\n",
    "plt.title('Survival Count by Title')\n",
    "plt.xlabel('Title')\n",
    "plt.ylabel('Count')\n",
    "plt.xticks(rotation=45)\n",
    "plt.legend(title='Survived', loc='upper right')\n",
    "plt.show()"
   ]
  },
  {
   "cell_type": "markdown",
   "id": "382f3243",
   "metadata": {
    "papermill": {
     "duration": 0.021898,
     "end_time": "2024-05-29T18:17:19.517492",
     "exception": false,
     "start_time": "2024-05-29T18:17:19.495594",
     "status": "completed"
    },
    "tags": []
   },
   "source": [
    "Some Titles like Mrs and Miss impact the survival"
   ]
  },
  {
   "cell_type": "markdown",
   "id": "da60fa19",
   "metadata": {
    "papermill": {
     "duration": 0.020988,
     "end_time": "2024-05-29T18:17:19.559848",
     "exception": false,
     "start_time": "2024-05-29T18:17:19.538860",
     "status": "completed"
    },
    "tags": []
   },
   "source": [
    "# HANDLING MISSING DATA\n",
    "We create a new feature Family size and Family group which would be helpful for Cabin imputing (applying the same cabin to the Family Group)"
   ]
  },
  {
   "cell_type": "markdown",
   "id": "5272ae84",
   "metadata": {
    "papermill": {
     "duration": 0.020964,
     "end_time": "2024-05-29T18:17:19.602135",
     "exception": false,
     "start_time": "2024-05-29T18:17:19.581171",
     "status": "completed"
    },
    "tags": []
   },
   "source": [
    "### - Cabin"
   ]
  },
  {
   "cell_type": "markdown",
   "id": "714630bb",
   "metadata": {
    "papermill": {
     "duration": 0.021195,
     "end_time": "2024-05-29T18:17:19.713164",
     "exception": false,
     "start_time": "2024-05-29T18:17:19.691969",
     "status": "completed"
    },
    "tags": []
   },
   "source": [
    "FamilyGroup as feature is really important since it will have an impact on the survival.  "
   ]
  },
  {
   "cell_type": "code",
   "execution_count": 11,
   "id": "91c36255",
   "metadata": {
    "execution": {
     "iopub.execute_input": "2024-05-29T18:17:19.757962Z",
     "iopub.status.busy": "2024-05-29T18:17:19.757545Z",
     "iopub.status.idle": "2024-05-29T18:17:19.867422Z",
     "shell.execute_reply": "2024-05-29T18:17:19.866182Z"
    },
    "papermill": {
     "duration": 0.135964,
     "end_time": "2024-05-29T18:17:19.870505",
     "exception": false,
     "start_time": "2024-05-29T18:17:19.734541",
     "status": "completed"
    },
    "tags": []
   },
   "outputs": [],
   "source": [
    "# Engineer the 'FamilySize' feature\n",
    "train_data['FamilySize'] = train_data['SibSp'] + train_data['Parch'] + 1\n",
    "test_data['FamilySize'] = test_data['SibSp'] + test_data['Parch'] + 1\n",
    "\n",
    "# Deriving gender from name\n",
    "train_data['Title'] = train_data['Name'].str.extract(' ([A-Za-z]+)\\.', expand=False)\n",
    "test_data['Title'] = test_data['Name'].str.extract(' ([A-Za-z]+)\\.', expand=False)\n",
    "# Extract last names\n",
    "train_data['LastName'] = train_data['Name'].apply(lambda x: x.split(',')[0])\n",
    "test_data['LastName'] = test_data['Name'].apply(lambda x: x.split(',')[0])\n",
    "\n",
    "# Create a family group feature based on last names and family size\n",
    "train_data['FamilyGroup'] = train_data['LastName'] + \"_\" + train_data['FamilySize'].astype(str)\n",
    "test_data['FamilyGroup'] = test_data['LastName'] + \"_\" + test_data['FamilySize'].astype(str)\n",
    "\n",
    "# Impute cabins based on the most common cabin for each family group\n",
    "family_cabin_mapping = train_data.dropna(subset=['Cabin']).groupby('FamilyGroup')['Cabin'].agg(lambda x:x.value_counts().index[0])\n",
    "train_data['Cabin'] = train_data.apply(lambda x: family_cabin_mapping.get(x['FamilyGroup'], x['Cabin']), axis=1)\n",
    "test_data['Cabin'] = test_data.apply(lambda x: family_cabin_mapping.get(x['FamilyGroup'], x['Cabin']), axis=1)\n"
   ]
  },
  {
   "cell_type": "markdown",
   "id": "3b593cd8",
   "metadata": {
    "papermill": {
     "duration": 0.021084,
     "end_time": "2024-05-29T18:17:19.913423",
     "exception": false,
     "start_time": "2024-05-29T18:17:19.892339",
     "status": "completed"
    },
    "tags": []
   },
   "source": [
    "### -Age & Embarked"
   ]
  },
  {
   "cell_type": "code",
   "execution_count": 12,
   "id": "9f3edace",
   "metadata": {
    "execution": {
     "iopub.execute_input": "2024-05-29T18:17:19.959319Z",
     "iopub.status.busy": "2024-05-29T18:17:19.958419Z",
     "iopub.status.idle": "2024-05-29T18:17:20.001914Z",
     "shell.execute_reply": "2024-05-29T18:17:20.000857Z"
    },
    "papermill": {
     "duration": 0.069163,
     "end_time": "2024-05-29T18:17:20.004521",
     "exception": false,
     "start_time": "2024-05-29T18:17:19.935358",
     "status": "completed"
    },
    "tags": []
   },
   "outputs": [],
   "source": [
    "# Calculate median ages for each Pclass and Sex combination\n",
    "median_ages = train_data.groupby(['Pclass', 'Sex'])['Age'].median()\n",
    "\n",
    "# Function to impute missing Age values\n",
    "def impute_age(row):\n",
    "    if pd.isnull(row['Age']):\n",
    "        return median_ages.loc[row['Pclass'], row['Sex']]\n",
    "    else:\n",
    "        return row['Age']\n",
    "\n",
    "# Apply the function to the Age column\n",
    "train_data['Age'] = train_data.apply(impute_age, axis=1)\n",
    "\n",
    "# Embarked: \n",
    "# Calculate the mode of the Embarked column\n",
    "mode_embarked = train_data['Embarked'].mode()[0]\n",
    "\n",
    "# Impute missing Embarked values with the mode\n",
    "train_data['Embarked'] = train_data['Embarked'].fillna(mode_embarked)\n",
    "\n"
   ]
  },
  {
   "cell_type": "markdown",
   "id": "ab05f7bf",
   "metadata": {
    "papermill": {
     "duration": 0.021333,
     "end_time": "2024-05-29T18:17:20.047477",
     "exception": false,
     "start_time": "2024-05-29T18:17:20.026144",
     "status": "completed"
    },
    "tags": []
   },
   "source": [
    "# Feature Engineering"
   ]
  },
  {
   "cell_type": "markdown",
   "id": "dd81d0bd",
   "metadata": {
    "papermill": {
     "duration": 0.021437,
     "end_time": "2024-05-29T18:17:20.090513",
     "exception": false,
     "start_time": "2024-05-29T18:17:20.069076",
     "status": "completed"
    },
    "tags": []
   },
   "source": [
    "Using the plots descibed in the first step, we can keep Pclass, Embarked, Title, FamilyGroup and Cabin as features to consider."
   ]
  },
  {
   "cell_type": "code",
   "execution_count": 13,
   "id": "1a6486f0",
   "metadata": {
    "execution": {
     "iopub.execute_input": "2024-05-29T18:17:20.136349Z",
     "iopub.status.busy": "2024-05-29T18:17:20.135248Z",
     "iopub.status.idle": "2024-05-29T18:17:20.144282Z",
     "shell.execute_reply": "2024-05-29T18:17:20.143093Z"
    },
    "papermill": {
     "duration": 0.034541,
     "end_time": "2024-05-29T18:17:20.146859",
     "exception": false,
     "start_time": "2024-05-29T18:17:20.112318",
     "status": "completed"
    },
    "tags": []
   },
   "outputs": [],
   "source": [
    "# Select features and target\n",
    "numerical_features = ['Pclass', 'Age']\n",
    "categorical_features = ['Embarked','Title', 'FamilyGroup', 'Cabin']\n",
    "X = train_data[numerical_features + categorical_features]\n",
    "y = train_data['Survived']\n",
    "X_test = test_data[numerical_features + categorical_features]"
   ]
  },
  {
   "cell_type": "markdown",
   "id": "93c0745f",
   "metadata": {
    "papermill": {
     "duration": 0.021463,
     "end_time": "2024-05-29T18:17:20.190432",
     "exception": false,
     "start_time": "2024-05-29T18:17:20.168969",
     "status": "completed"
    },
    "tags": []
   },
   "source": [
    "### Scaling and One-Hot encoding of Features data (Preprocessing)"
   ]
  },
  {
   "cell_type": "code",
   "execution_count": 14,
   "id": "02115e84",
   "metadata": {
    "execution": {
     "iopub.execute_input": "2024-05-29T18:17:20.236294Z",
     "iopub.status.busy": "2024-05-29T18:17:20.235830Z",
     "iopub.status.idle": "2024-05-29T18:17:20.250678Z",
     "shell.execute_reply": "2024-05-29T18:17:20.249488Z"
    },
    "papermill": {
     "duration": 0.040714,
     "end_time": "2024-05-29T18:17:20.253328",
     "exception": false,
     "start_time": "2024-05-29T18:17:20.212614",
     "status": "completed"
    },
    "tags": []
   },
   "outputs": [],
   "source": [
    "from sklearn.preprocessing import StandardScaler, OneHotEncoder\n",
    "from sklearn.compose import ColumnTransformer\n",
    "from sklearn.pipeline import Pipeline\n",
    "\n",
    "# Define preprocessing steps for numerical and categorical data\n",
    "numerical_transformer = Pipeline(steps=[\n",
    "    ('scaler', StandardScaler())\n",
    "])\n",
    "\n",
    "categorical_transformer = Pipeline(steps=[\n",
    "    ('onehot', OneHotEncoder(handle_unknown='ignore'))\n",
    "])\n",
    "\n",
    "# Bundle preprocessing for numerical and categorical data\n",
    "preprocessor = ColumnTransformer(\n",
    "    transformers=[\n",
    "        ('num', numerical_transformer, numerical_features),\n",
    "        ('cat', categorical_transformer, categorical_features)\n",
    "    ])\n"
   ]
  },
  {
   "cell_type": "markdown",
   "id": "3d809edd",
   "metadata": {
    "papermill": {
     "duration": 0.021022,
     "end_time": "2024-05-29T18:17:20.296419",
     "exception": false,
     "start_time": "2024-05-29T18:17:20.275397",
     "status": "completed"
    },
    "tags": []
   },
   "source": [
    "# Compare Models & Parameters Tunning"
   ]
  },
  {
   "cell_type": "markdown",
   "id": "0af02e7b",
   "metadata": {
    "papermill": {
     "duration": 0.020985,
     "end_time": "2024-05-29T18:17:20.338631",
     "exception": false,
     "start_time": "2024-05-29T18:17:20.317646",
     "status": "completed"
    },
    "tags": []
   },
   "source": [
    "We split data (cross-validation) and we do parameters Tunning "
   ]
  },
  {
   "cell_type": "code",
   "execution_count": 15,
   "id": "c973c82f",
   "metadata": {
    "execution": {
     "iopub.execute_input": "2024-05-29T18:17:20.383698Z",
     "iopub.status.busy": "2024-05-29T18:17:20.383155Z",
     "iopub.status.idle": "2024-05-29T18:17:20.407156Z",
     "shell.execute_reply": "2024-05-29T18:17:20.405688Z"
    },
    "papermill": {
     "duration": 0.050015,
     "end_time": "2024-05-29T18:17:20.410021",
     "exception": false,
     "start_time": "2024-05-29T18:17:20.360006",
     "status": "completed"
    },
    "tags": []
   },
   "outputs": [],
   "source": [
    "from sklearn.model_selection import train_test_split\n",
    "# Split data into training and validation sets\n",
    "X_train, X_val, y_train, y_val = train_test_split(X, y, test_size=0.2, random_state=0)"
   ]
  },
  {
   "cell_type": "markdown",
   "id": "85477f2a",
   "metadata": {
    "papermill": {
     "duration": 0.023098,
     "end_time": "2024-05-29T18:17:20.455924",
     "exception": false,
     "start_time": "2024-05-29T18:17:20.432826",
     "status": "completed"
    },
    "tags": []
   },
   "source": [
    "### Linear Regression"
   ]
  },
  {
   "cell_type": "code",
   "execution_count": 16,
   "id": "77de02c2",
   "metadata": {
    "execution": {
     "iopub.execute_input": "2024-05-29T18:17:20.501891Z",
     "iopub.status.busy": "2024-05-29T18:17:20.501459Z",
     "iopub.status.idle": "2024-05-29T18:17:22.477257Z",
     "shell.execute_reply": "2024-05-29T18:17:22.476030Z"
    },
    "papermill": {
     "duration": 2.001983,
     "end_time": "2024-05-29T18:17:22.479744",
     "exception": false,
     "start_time": "2024-05-29T18:17:20.477761",
     "status": "completed"
    },
    "tags": []
   },
   "outputs": [
    {
     "name": "stdout",
     "output_type": "stream",
     "text": [
      "Best Parameters: {'model__C': 100, 'model__penalty': 'l2'}\n",
      "Logistic Regression Accuracy: 0.8268156424581006\n"
     ]
    }
   ],
   "source": [
    "from sklearn.model_selection import GridSearchCV\n",
    "from sklearn.linear_model import LogisticRegression\n",
    "from sklearn.metrics import accuracy_score\n",
    "\n",
    "# Define the model\n",
    "logistic_model = LogisticRegression(max_iter=1000)\n",
    "\n",
    "# Create a pipeline for Logistic Regression\n",
    "logistic_clf = Pipeline(steps=[('preprocessor', preprocessor),\n",
    "                               ('model', logistic_model)])\n",
    "\n",
    "# Define parameter grid for tuning\n",
    "param_grid = {'model__C': [ 1, 10, 100, 200], 'model__penalty': [ 'l2']}\n",
    "\n",
    "# Grid search for parameter tuning\n",
    "grid_search = GridSearchCV(logistic_clf, param_grid, cv=5)\n",
    "grid_search.fit(X_train, y_train)\n",
    "\n",
    "# Best parameters\n",
    "best_params = grid_search.best_params_\n",
    "print(\"Best Parameters:\", best_params)\n",
    "\n",
    "# Train and evaluate Logistic Regression model\n",
    "logistic_clf_best = grid_search.best_estimator_\n",
    "logistic_clf_best.fit(X_train, y_train)\n",
    "logistic_score = logistic_clf_best.score(X_val, y_val)\n",
    "print('Logistic Regression Accuracy:', logistic_score)\n"
   ]
  },
  {
   "cell_type": "markdown",
   "id": "a803087a",
   "metadata": {
    "papermill": {
     "duration": 0.021139,
     "end_time": "2024-05-29T18:17:22.522447",
     "exception": false,
     "start_time": "2024-05-29T18:17:22.501308",
     "status": "completed"
    },
    "tags": []
   },
   "source": [
    "### Decision tree"
   ]
  },
  {
   "cell_type": "code",
   "execution_count": 17,
   "id": "da4541bf",
   "metadata": {
    "execution": {
     "iopub.execute_input": "2024-05-29T18:17:22.567502Z",
     "iopub.status.busy": "2024-05-29T18:17:22.567046Z",
     "iopub.status.idle": "2024-05-29T18:17:29.973863Z",
     "shell.execute_reply": "2024-05-29T18:17:29.972201Z"
    },
    "papermill": {
     "duration": 7.433208,
     "end_time": "2024-05-29T18:17:29.977062",
     "exception": false,
     "start_time": "2024-05-29T18:17:22.543854",
     "status": "completed"
    },
    "tags": []
   },
   "outputs": [
    {
     "name": "stdout",
     "output_type": "stream",
     "text": [
      "Best Parameters for Decision Tree: {'model__max_depth': 40, 'model__min_samples_leaf': 1, 'model__min_samples_split': 5}\n",
      "Decision Tree Accuracy: 0.8212290502793296\n"
     ]
    }
   ],
   "source": [
    "from sklearn.tree import DecisionTreeClassifier\n",
    "\n",
    "# Define the model\n",
    "decision_tree_model = DecisionTreeClassifier()\n",
    "\n",
    "# Create a pipeline for Decision Tree\n",
    "decision_tree_clf = Pipeline(steps=[('preprocessor', preprocessor),\n",
    "                                    ('model', decision_tree_model)])\n",
    "\n",
    "# Define parameter grid for tuning\n",
    "param_grid = {'model__max_depth': [None, 10, 20, 30, 40],\n",
    "              'model__min_samples_split': [2, 5, 10],\n",
    "              'model__min_samples_leaf': [1, 2, 4]}\n",
    "\n",
    "# Grid search for parameter tuning\n",
    "grid_search = GridSearchCV(decision_tree_clf, param_grid, cv=5)\n",
    "grid_search.fit(X_train, y_train)\n",
    "\n",
    "# Best parameters\n",
    "best_params = grid_search.best_params_\n",
    "print(\"Best Parameters for Decision Tree:\", best_params)\n",
    "\n",
    "# Train and evaluate Decision Tree model with best parameters\n",
    "decision_tree_clf_best = grid_search.best_estimator_\n",
    "decision_tree_clf_best.fit(X_train, y_train)\n",
    "decision_tree_score = decision_tree_clf_best.score(X_val, y_val)\n",
    "print('Decision Tree Accuracy:', decision_tree_score)\n",
    "\n"
   ]
  },
  {
   "cell_type": "markdown",
   "id": "9c82d54d",
   "metadata": {
    "papermill": {
     "duration": 0.02202,
     "end_time": "2024-05-29T18:17:30.021645",
     "exception": false,
     "start_time": "2024-05-29T18:17:29.999625",
     "status": "completed"
    },
    "tags": []
   },
   "source": [
    "### Random Forest"
   ]
  },
  {
   "cell_type": "code",
   "execution_count": 18,
   "id": "ba0f606d",
   "metadata": {
    "execution": {
     "iopub.execute_input": "2024-05-29T18:17:30.069869Z",
     "iopub.status.busy": "2024-05-29T18:17:30.069401Z",
     "iopub.status.idle": "2024-05-29T18:22:40.119497Z",
     "shell.execute_reply": "2024-05-29T18:22:40.118024Z"
    },
    "papermill": {
     "duration": 310.077815,
     "end_time": "2024-05-29T18:22:40.122501",
     "exception": false,
     "start_time": "2024-05-29T18:17:30.044686",
     "status": "completed"
    },
    "tags": []
   },
   "outputs": [
    {
     "name": "stdout",
     "output_type": "stream",
     "text": [
      "Best Parameters for Random Forest: {'model__max_depth': 20, 'model__min_samples_leaf': 1, 'model__min_samples_split': 2, 'model__n_estimators': 100}\n",
      "Random Forest Accuracy: 0.8268156424581006\n"
     ]
    }
   ],
   "source": [
    "from sklearn.ensemble import RandomForestClassifier\n",
    "\n",
    "# Define the model\n",
    "random_forest_model = RandomForestClassifier()\n",
    "\n",
    "# Create a pipeline for Random Forest\n",
    "random_forest_clf = Pipeline(steps=[('preprocessor', preprocessor),\n",
    "                                    ('model', random_forest_model)])\n",
    "\n",
    "# Define parameter grid for tuning\n",
    "param_grid = {'model__n_estimators': [100, 200, 300],\n",
    "              'model__max_depth': [None, 10, 20, 30],\n",
    "              'model__min_samples_split': [2, 5, 10],\n",
    "              'model__min_samples_leaf': [1, 2, 4]}\n",
    "\n",
    "# Grid search for parameter tuning\n",
    "grid_search = GridSearchCV(random_forest_clf, param_grid, cv=5)\n",
    "grid_search.fit(X_train, y_train)\n",
    "\n",
    "# Best parameters\n",
    "best_params = grid_search.best_params_\n",
    "print(\"Best Parameters for Random Forest:\", best_params)\n",
    "\n",
    "# Train and evaluate Random Forest model with best parameters\n",
    "random_forest_clf_best = grid_search.best_estimator_\n",
    "random_forest_clf_best.fit(X_train, y_train)\n",
    "random_forest_score = random_forest_clf_best.score(X_val, y_val)\n",
    "print('Random Forest Accuracy:', random_forest_score)\n"
   ]
  },
  {
   "cell_type": "markdown",
   "id": "1721abee",
   "metadata": {
    "papermill": {
     "duration": 0.02224,
     "end_time": "2024-05-29T18:22:40.167568",
     "exception": false,
     "start_time": "2024-05-29T18:22:40.145328",
     "status": "completed"
    },
    "tags": []
   },
   "source": [
    "## XGboost"
   ]
  },
  {
   "cell_type": "code",
   "execution_count": 19,
   "id": "1b80a33c",
   "metadata": {
    "execution": {
     "iopub.execute_input": "2024-05-29T18:22:40.215624Z",
     "iopub.status.busy": "2024-05-29T18:22:40.215159Z",
     "iopub.status.idle": "2024-05-29T18:25:50.932358Z",
     "shell.execute_reply": "2024-05-29T18:25:50.931156Z"
    },
    "papermill": {
     "duration": 190.758358,
     "end_time": "2024-05-29T18:25:50.949146",
     "exception": false,
     "start_time": "2024-05-29T18:22:40.190788",
     "status": "completed"
    },
    "tags": []
   },
   "outputs": [
    {
     "name": "stdout",
     "output_type": "stream",
     "text": [
      "Best Parameters for XGBoost: {'model__colsample_bytree': 0.7, 'model__learning_rate': 0.01, 'model__max_depth': 3, 'model__n_estimators': 200, 'model__subsample': 0.8}\n",
      "XGBoost Accuracy: 0.7932960893854749\n"
     ]
    }
   ],
   "source": [
    "from xgboost import XGBClassifier\n",
    "\n",
    "# Define the model\n",
    "xgb_model = XGBClassifier()\n",
    "\n",
    "# Create a pipeline for XGBoost\n",
    "xgb_clf = Pipeline(steps=[('preprocessor', preprocessor),\n",
    "                          ('model', xgb_model)])\n",
    "\n",
    "# Define parameter grid for tuning\n",
    "param_grid = {'model__n_estimators': [100, 200, 300],\n",
    "              'model__max_depth': [3, 4, 5],\n",
    "              'model__learning_rate': [0.01, 0.1, 0.3],\n",
    "              'model__subsample': [0.7, 0.8, 0.9],\n",
    "              'model__colsample_bytree': [0.7, 0.8, 0.9]}\n",
    "\n",
    "# Grid search for parameter tuning\n",
    "grid_search = GridSearchCV(xgb_clf, param_grid, cv=5)\n",
    "grid_search.fit(X_train, y_train)\n",
    "\n",
    "# Best parameters\n",
    "best_params = grid_search.best_params_\n",
    "print(\"Best Parameters for XGBoost:\", best_params)\n",
    "\n",
    "# Train and evaluate XGBoost model with best parameters\n",
    "xgb_clf_best = grid_search.best_estimator_\n",
    "xgb_clf_best.fit(X_train, y_train)\n",
    "xgb_score = xgb_clf_best.score(X_val, y_val)\n",
    "print('XGBoost Accuracy:', xgb_score)\n"
   ]
  },
  {
   "cell_type": "markdown",
   "id": "27f6c5c9",
   "metadata": {
    "papermill": {
     "duration": 0.021961,
     "end_time": "2024-05-29T18:25:50.993069",
     "exception": false,
     "start_time": "2024-05-29T18:25:50.971108",
     "status": "completed"
    },
    "tags": []
   },
   "source": [
    "### Support Vector "
   ]
  },
  {
   "cell_type": "code",
   "execution_count": 20,
   "id": "ee01f365",
   "metadata": {
    "execution": {
     "iopub.execute_input": "2024-05-29T18:25:51.039999Z",
     "iopub.status.busy": "2024-05-29T18:25:51.039545Z",
     "iopub.status.idle": "2024-05-29T18:25:59.147112Z",
     "shell.execute_reply": "2024-05-29T18:25:59.145825Z"
    },
    "papermill": {
     "duration": 8.133918,
     "end_time": "2024-05-29T18:25:59.149832",
     "exception": false,
     "start_time": "2024-05-29T18:25:51.015914",
     "status": "completed"
    },
    "tags": []
   },
   "outputs": [
    {
     "name": "stdout",
     "output_type": "stream",
     "text": [
      "Best Parameters for SVC: {'model__C': 1, 'model__gamma': 'scale', 'model__kernel': 'linear'}\n",
      "SVC Accuracy: 0.8156424581005587\n"
     ]
    }
   ],
   "source": [
    "from sklearn.svm import SVC\n",
    "\n",
    "# Define the model\n",
    "svc_model = SVC()\n",
    "\n",
    "# Create a pipeline for SVC\n",
    "svc_clf = Pipeline(steps=[('preprocessor', preprocessor),\n",
    "                          ('model', svc_model)])\n",
    "\n",
    "# Define parameter grid for tuning\n",
    "param_grid = {'model__C': [0.1, 1, 10, 100],\n",
    "              'model__kernel': ['linear', 'poly', 'rbf', 'sigmoid'],\n",
    "              'model__gamma': ['scale', 'auto']}\n",
    "\n",
    "# Grid search for parameter tuning\n",
    "grid_search = GridSearchCV(svc_clf, param_grid, cv=5)\n",
    "grid_search.fit(X_train, y_train)\n",
    "\n",
    "# Best parameters\n",
    "best_params = grid_search.best_params_\n",
    "print(\"Best Parameters for SVC:\", best_params)\n",
    "\n",
    "# Train and evaluate SVC model with best parameters\n",
    "svc_clf_best = grid_search.best_estimator_\n",
    "svc_clf_best.fit(X_train, y_train)\n",
    "svc_score = svc_clf_best.score(X_val, y_val)\n",
    "print('SVC Accuracy:', svc_score)\n"
   ]
  },
  {
   "cell_type": "markdown",
   "id": "a2de5b28",
   "metadata": {
    "papermill": {
     "duration": 0.021635,
     "end_time": "2024-05-29T18:25:59.193784",
     "exception": false,
     "start_time": "2024-05-29T18:25:59.172149",
     "status": "completed"
    },
    "tags": []
   },
   "source": [
    "### K- Nearest neighbor"
   ]
  },
  {
   "cell_type": "code",
   "execution_count": 21,
   "id": "decb2c5d",
   "metadata": {
    "execution": {
     "iopub.execute_input": "2024-05-29T18:25:59.240966Z",
     "iopub.status.busy": "2024-05-29T18:25:59.240350Z",
     "iopub.status.idle": "2024-05-29T18:26:00.781508Z",
     "shell.execute_reply": "2024-05-29T18:26:00.780343Z"
    },
    "papermill": {
     "duration": 1.569096,
     "end_time": "2024-05-29T18:26:00.784938",
     "exception": false,
     "start_time": "2024-05-29T18:25:59.215842",
     "status": "completed"
    },
    "tags": []
   },
   "outputs": [
    {
     "name": "stdout",
     "output_type": "stream",
     "text": [
      "Best Parameters for KNN: {'model__algorithm': 'brute', 'model__n_neighbors': 9, 'model__weights': 'distance'}\n",
      "KNN Accuracy: 0.7877094972067039\n"
     ]
    }
   ],
   "source": [
    "from sklearn.neighbors import KNeighborsClassifier\n",
    "\n",
    "# Define the model\n",
    "knn_model = KNeighborsClassifier()\n",
    "\n",
    "# Create a pipeline for KNN\n",
    "knn_clf = Pipeline(steps=[('preprocessor', preprocessor),\n",
    "                          ('model', knn_model)])\n",
    "\n",
    "# Define parameter grid for tuning\n",
    "# Define parameter grid for tuning\n",
    "param_grid = {'model__n_neighbors': [3, 5, 7, 9],\n",
    "              'model__weights': ['uniform', 'distance'],\n",
    "              'model__algorithm': ['brute']}\n",
    "\n",
    "\n",
    "# Grid search for parameter tuning\n",
    "grid_search = GridSearchCV(knn_clf, param_grid, cv=5)\n",
    "grid_search.fit(X_train, y_train)\n",
    "\n",
    "# Best parameters\n",
    "best_params = grid_search.best_params_\n",
    "print(\"Best Parameters for KNN:\", best_params)\n",
    "\n",
    "# Train and evaluate KNN model with best parameters\n",
    "knn_clf_best = grid_search.best_estimator_\n",
    "knn_clf_best.fit(X_train, y_train)\n",
    "knn_score = knn_clf_best.score(X_val, y_val)\n",
    "print('KNN Accuracy:', knn_score)\n"
   ]
  },
  {
   "cell_type": "code",
   "execution_count": 22,
   "id": "1d952d8e",
   "metadata": {
    "execution": {
     "iopub.execute_input": "2024-05-29T18:26:00.833815Z",
     "iopub.status.busy": "2024-05-29T18:26:00.833343Z",
     "iopub.status.idle": "2024-05-29T18:26:01.161814Z",
     "shell.execute_reply": "2024-05-29T18:26:01.160502Z"
    },
    "papermill": {
     "duration": 0.356278,
     "end_time": "2024-05-29T18:26:01.164867",
     "exception": false,
     "start_time": "2024-05-29T18:26:00.808589",
     "status": "completed"
    },
    "tags": []
   },
   "outputs": [
    {
     "data": {
      "image/png": "[encoded data removed]",
      "text/plain": [
       "<Figure size 1000x600 with 1 Axes>"
      ]
     },
     "metadata": {},
     "output_type": "display_data"
    }
   ],
   "source": [
    "import matplotlib.pyplot as plt\n",
    "\n",
    "# Accuracy scores of each model\n",
    "accuracies = [ logistic_score, decision_tree_score, knn_score, random_forest_score, svc_score, xgb_score]\n",
    "models = ['Logistic Regression', 'Decision Tree', 'KNN', 'Random Forest', 'SVC', 'XGBoost']\n",
    "\n",
    "# Plotting\n",
    "plt.figure(figsize=(10, 6))\n",
    "plt.bar(models, accuracies, color='skyblue')\n",
    "plt.title('Best Performance of Each Model')\n",
    "plt.xlabel('Model')\n",
    "plt.ylabel('Accuracy')\n",
    "plt.ylim(0.7, 1.0)  # Set y-axis limits\n",
    "plt.xticks(rotation=45)  # Rotate x-axis labels for better readability\n",
    "plt.show()\n"
   ]
  },
  {
   "cell_type": "markdown",
   "id": "b56d37d7",
   "metadata": {
    "papermill": {
     "duration": 0.023597,
     "end_time": "2024-05-29T18:26:01.214052",
     "exception": false,
     "start_time": "2024-05-29T18:26:01.190455",
     "status": "completed"
    },
    "tags": []
   },
   "source": [
    "# Ensembles"
   ]
  },
  {
   "cell_type": "markdown",
   "id": "d865a811",
   "metadata": {
    "papermill": {
     "duration": 0.023363,
     "end_time": "2024-05-29T18:26:01.261251",
     "exception": false,
     "start_time": "2024-05-29T18:26:01.237888",
     "status": "completed"
    },
    "tags": []
   },
   "source": [
    "We conclude from the graph that Logistic regression, Random Forest and SVC give the best performance with more than 81% with best parameters. Lets try these for creating ensembles combinning these models. "
   ]
  },
  {
   "cell_type": "markdown",
   "id": "561488b4",
   "metadata": {
    "papermill": {
     "duration": 0.024081,
     "end_time": "2024-05-29T18:26:01.309417",
     "exception": false,
     "start_time": "2024-05-29T18:26:01.285336",
     "status": "completed"
    },
    "tags": []
   },
   "source": [
    "### Soft voting"
   ]
  },
  {
   "cell_type": "markdown",
   "id": "b4a3182c",
   "metadata": {
    "papermill": {
     "duration": 0.02343,
     "end_time": "2024-05-29T18:26:01.357476",
     "exception": false,
     "start_time": "2024-05-29T18:26:01.334046",
     "status": "completed"
    },
    "tags": []
   },
   "source": [
    "## RF KNN SVM"
   ]
  },
  {
   "cell_type": "code",
   "execution_count": 23,
   "id": "a6bb8b4b",
   "metadata": {
    "execution": {
     "iopub.execute_input": "2024-05-29T18:26:01.408191Z",
     "iopub.status.busy": "2024-05-29T18:26:01.407593Z",
     "iopub.status.idle": "2024-05-29T18:26:07.522295Z",
     "shell.execute_reply": "2024-05-29T18:26:07.521130Z"
    },
    "papermill": {
     "duration": 6.1443,
     "end_time": "2024-05-29T18:26:07.525829",
     "exception": false,
     "start_time": "2024-05-29T18:26:01.381529",
     "status": "completed"
    },
    "tags": []
   },
   "outputs": [
    {
     "name": "stdout",
     "output_type": "stream",
     "text": [
      "Ensemble Accuracy: [0.8212290502793296, 0.8100558659217877, 0.8100558659217877, 0.8156424581005587, 0.8100558659217877]\n",
      "Average Ensemble Accuracy (5 iterations): 0.8134078212290502\n"
     ]
    }
   ],
   "source": [
    "from sklearn.neighbors import KNeighborsClassifier\n",
    "from sklearn.ensemble import VotingClassifier\n",
    "\n",
    "# Define individual models with best parameters\n",
    "logistic_model = LogisticRegression(C=2000, penalty='l2')\n",
    "random_forest_model = RandomForestClassifier(max_depth=20, min_samples_leaf=1, min_samples_split=2, n_estimators=300)\n",
    "svc_model = SVC(C=1, kernel='linear', gamma='scale')\n",
    "knn_model = KNeighborsClassifier(algorithm='brute', n_neighbors=9, weights='distance')\n",
    "xgb_model = XGBClassifier(n_estimators=200, max_depth=3, learning_rate= 0.01, subsample=0.8, colsample_bytree=0.7)\n",
    "\n",
    "\n",
    "# Create a pipeline for the ensemble with the same preprocessor\n",
    "voting_clf = Pipeline(steps=[\n",
    "    ('preprocessor', preprocessor),  # Using the same preprocessor\n",
    "    ('classifier', VotingClassifier(estimators=[\n",
    "        ('random_forest', random_forest_model),\n",
    "        ('svc', svc_model),\n",
    "        ('knn', knn_model)\n",
    "    ], voting='hard'))  # Use 'hard' voting\n",
    "])\n",
    "\n",
    "# Fit the Voting Classifier ensemble\n",
    "voting_clf.fit(X_train, y_train)\n",
    "# Test the ensemble 5 times\n",
    "ensemble_scores = []\n",
    "for i in range(5):\n",
    "    # Fit the Voting Classifier ensemble\n",
    "    voting_clf.fit(X_train, y_train)\n",
    "\n",
    "    # Evaluate the ensemble on the validation set\n",
    "    ensemble_score = voting_clf.score(X_val, y_val)\n",
    "    ensemble_scores.append(ensemble_score)\n",
    "\n",
    "\n",
    "\n",
    "print('Ensemble Accuracy:', ensemble_scores)\n",
    "# Calculate the average ensemble score\n",
    "average_ensemble_score_voting_RF_KNN_SVM = sum(ensemble_scores) / len(ensemble_scores)\n",
    "print('Average Ensemble Accuracy (5 iterations):', average_ensemble_score_voting_RF_KNN_SVM)\n",
    "\n"
   ]
  },
  {
   "cell_type": "markdown",
   "id": "c9783c19",
   "metadata": {
    "papermill": {
     "duration": 0.032428,
     "end_time": "2024-05-29T18:26:07.586033",
     "exception": false,
     "start_time": "2024-05-29T18:26:07.553605",
     "status": "completed"
    },
    "tags": []
   },
   "source": [
    "## XGBOOST RF SVC"
   ]
  },
  {
   "cell_type": "code",
   "execution_count": 24,
   "id": "31868c21",
   "metadata": {
    "execution": {
     "iopub.execute_input": "2024-05-29T18:26:07.652907Z",
     "iopub.status.busy": "2024-05-29T18:26:07.652434Z",
     "iopub.status.idle": "2024-05-29T18:26:14.383027Z",
     "shell.execute_reply": "2024-05-29T18:26:14.381958Z"
    },
    "papermill": {
     "duration": 6.769878,
     "end_time": "2024-05-29T18:26:14.386005",
     "exception": false,
     "start_time": "2024-05-29T18:26:07.616127",
     "status": "completed"
    },
    "tags": []
   },
   "outputs": [
    {
     "name": "stdout",
     "output_type": "stream",
     "text": [
      "Ensemble Accuracy: [0.8156424581005587, 0.8156424581005587, 0.8212290502793296, 0.8324022346368715, 0.8100558659217877]\n",
      "Average Ensemble Accuracy (5 iterations): 0.8189944134078212\n"
     ]
    }
   ],
   "source": [
    "# Create a pipeline for the ensemble with the same preprocessor\n",
    "voting_clf = Pipeline(steps=[\n",
    "    ('preprocessor', preprocessor),  # Using the same preprocessor\n",
    "    ('classifier', VotingClassifier(estimators=[\n",
    "        ('random_forest', random_forest_model),\n",
    "        ('svc', svc_model),\n",
    "        ('xgb', xgb_model)\n",
    "        \n",
    "    ], voting='hard'))  # Use 'hard' voting\n",
    "])\n",
    "\n",
    "# Fit the Voting Classifier ensemble\n",
    "voting_clf.fit(X_train, y_train)\n",
    "# Test the ensemble 5 times\n",
    "ensemble_scores = []\n",
    "for i in range(5):\n",
    "    # Fit the Voting Classifier ensemble\n",
    "    voting_clf.fit(X_train, y_train)\n",
    "    # Evaluate the ensemble on the validation set\n",
    "    ensemble_score = voting_clf.score(X_val, y_val)\n",
    "    ensemble_scores.append(ensemble_score)\n",
    "\n",
    "print('Ensemble Accuracy:', ensemble_scores)\n",
    "# Calculate the average ensemble score\n",
    "average_ensemble_score_voting_RF_XG_SVM = sum(ensemble_scores) / len(ensemble_scores)\n",
    "print('Average Ensemble Accuracy (5 iterations):', average_ensemble_score_voting_RF_XG_SVM)\n"
   ]
  },
  {
   "cell_type": "markdown",
   "id": "37812827",
   "metadata": {
    "papermill": {
     "duration": 0.022905,
     "end_time": "2024-05-29T18:26:14.432861",
     "exception": false,
     "start_time": "2024-05-29T18:26:14.409956",
     "status": "completed"
    },
    "tags": []
   },
   "source": [
    "## All models "
   ]
  },
  {
   "cell_type": "code",
   "execution_count": 25,
   "id": "031a9757",
   "metadata": {
    "execution": {
     "iopub.execute_input": "2024-05-29T18:26:14.482943Z",
     "iopub.status.busy": "2024-05-29T18:26:14.482195Z",
     "iopub.status.idle": "2024-05-29T18:26:21.517943Z",
     "shell.execute_reply": "2024-05-29T18:26:21.516674Z"
    },
    "papermill": {
     "duration": 7.065661,
     "end_time": "2024-05-29T18:26:21.522881",
     "exception": false,
     "start_time": "2024-05-29T18:26:14.457220",
     "status": "completed"
    },
    "tags": []
   },
   "outputs": [
    {
     "name": "stderr",
     "output_type": "stream",
     "text": [
      "/opt/conda/lib/python3.10/site-packages/sklearn/linear_model/_logistic.py:458: ConvergenceWarning: lbfgs failed to converge (status=1):\n",
      "STOP: TOTAL NO. of ITERATIONS REACHED LIMIT.\n",
      "\n",
      "Increase the number of iterations (max_iter) or scale the data as shown in:\n",
      "    https://scikit-learn.org/stable/modules/preprocessing.html\n",
      "Please also refer to the documentation for alternative solver options:\n",
      "    https://scikit-learn.org/stable/modules/linear_model.html#logistic-regression\n",
      "  n_iter_i = _check_optimize_result(\n",
      "/opt/conda/lib/python3.10/site-packages/sklearn/linear_model/_logistic.py:458: ConvergenceWarning: lbfgs failed to converge (status=1):\n",
      "STOP: TOTAL NO. of ITERATIONS REACHED LIMIT.\n",
      "\n",
      "Increase the number of iterations (max_iter) or scale the data as shown in:\n",
      "    https://scikit-learn.org/stable/modules/preprocessing.html\n",
      "Please also refer to the documentation for alternative solver options:\n",
      "    https://scikit-learn.org/stable/modules/linear_model.html#logistic-regression\n",
      "  n_iter_i = _check_optimize_result(\n",
      "/opt/conda/lib/python3.10/site-packages/sklearn/linear_model/_logistic.py:458: ConvergenceWarning: lbfgs failed to converge (status=1):\n",
      "STOP: TOTAL NO. of ITERATIONS REACHED LIMIT.\n",
      "\n",
      "Increase the number of iterations (max_iter) or scale the data as shown in:\n",
      "    https://scikit-learn.org/stable/modules/preprocessing.html\n",
      "Please also refer to the documentation for alternative solver options:\n",
      "    https://scikit-learn.org/stable/modules/linear_model.html#logistic-regression\n",
      "  n_iter_i = _check_optimize_result(\n",
      "/opt/conda/lib/python3.10/site-packages/sklearn/linear_model/_logistic.py:458: ConvergenceWarning: lbfgs failed to converge (status=1):\n",
      "STOP: TOTAL NO. of ITERATIONS REACHED LIMIT.\n",
      "\n",
      "Increase the number of iterations (max_iter) or scale the data as shown in:\n",
      "    https://scikit-learn.org/stable/modules/preprocessing.html\n",
      "Please also refer to the documentation for alternative solver options:\n",
      "    https://scikit-learn.org/stable/modules/linear_model.html#logistic-regression\n",
      "  n_iter_i = _check_optimize_result(\n",
      "/opt/conda/lib/python3.10/site-packages/sklearn/linear_model/_logistic.py:458: ConvergenceWarning: lbfgs failed to converge (status=1):\n",
      "STOP: TOTAL NO. of ITERATIONS REACHED LIMIT.\n",
      "\n",
      "Increase the number of iterations (max_iter) or scale the data as shown in:\n",
      "    https://scikit-learn.org/stable/modules/preprocessing.html\n",
      "Please also refer to the documentation for alternative solver options:\n",
      "    https://scikit-learn.org/stable/modules/linear_model.html#logistic-regression\n",
      "  n_iter_i = _check_optimize_result(\n"
     ]
    },
    {
     "name": "stdout",
     "output_type": "stream",
     "text": [
      "Ensemble Accuracy: [0.8100558659217877, 0.8100558659217877, 0.8156424581005587, 0.8100558659217877, 0.8100558659217877]\n",
      "Average Ensemble Accuracy (5 iterations): 0.8111731843575418\n"
     ]
    },
    {
     "name": "stderr",
     "output_type": "stream",
     "text": [
      "/opt/conda/lib/python3.10/site-packages/sklearn/linear_model/_logistic.py:458: ConvergenceWarning: lbfgs failed to converge (status=1):\n",
      "STOP: TOTAL NO. of ITERATIONS REACHED LIMIT.\n",
      "\n",
      "Increase the number of iterations (max_iter) or scale the data as shown in:\n",
      "    https://scikit-learn.org/stable/modules/preprocessing.html\n",
      "Please also refer to the documentation for alternative solver options:\n",
      "    https://scikit-learn.org/stable/modules/linear_model.html#logistic-regression\n",
      "  n_iter_i = _check_optimize_result(\n"
     ]
    }
   ],
   "source": [
    "# Create a pipeline for the ensemble with the same preprocessor\n",
    "voting_clf = Pipeline(steps=[\n",
    "    ('preprocessor', preprocessor),  # Using the same preprocessor\n",
    "    ('classifier', VotingClassifier(estimators=[\n",
    "        ('random_forest', random_forest_model),\n",
    "        ('svc', svc_model),\n",
    "        ('xgb', xgb_model),\n",
    "        ('knn', knn_model),\n",
    "        ('logistic', logistic_model)\n",
    "    ], voting='hard'))  # Use 'hard' voting\n",
    "])\n",
    "\n",
    "# Fit the Voting Classifier ensemble\n",
    "voting_clf.fit(X_train, y_train)\n",
    "# Test the ensemble 5 times\n",
    "ensemble_scores = []\n",
    "for i in range(5):\n",
    "    # Fit the Voting Classifier ensemble\n",
    "    voting_clf.fit(X_train, y_train)\n",
    "    # Evaluate the ensemble on the validation set\n",
    "    ensemble_score = voting_clf.score(X_val, y_val)\n",
    "    ensemble_scores.append(ensemble_score)\n",
    "\n",
    "print('Ensemble Accuracy:', ensemble_scores)\n",
    "# Calculate the average ensemble score\n",
    "average_ensemble_score_voting_ALL = sum(ensemble_scores) / len(ensemble_scores)\n",
    "print('Average Ensemble Accuracy (5 iterations):', average_ensemble_score_voting_ALL)\n"
   ]
  },
  {
   "cell_type": "markdown",
   "id": "acc4c4f7",
   "metadata": {
    "papermill": {
     "duration": 0.024503,
     "end_time": "2024-05-29T18:26:21.572962",
     "exception": false,
     "start_time": "2024-05-29T18:26:21.548459",
     "status": "completed"
    },
    "tags": []
   },
   "source": [
    "## Stacking"
   ]
  },
  {
   "cell_type": "markdown",
   "id": "6138a9e5",
   "metadata": {
    "papermill": {
     "duration": 0.024399,
     "end_time": "2024-05-29T18:26:21.622277",
     "exception": false,
     "start_time": "2024-05-29T18:26:21.597878",
     "status": "completed"
    },
    "tags": []
   },
   "source": [
    "### All models"
   ]
  },
  {
   "cell_type": "code",
   "execution_count": 26,
   "id": "a636c2b6",
   "metadata": {
    "execution": {
     "iopub.execute_input": "2024-05-29T18:26:21.675603Z",
     "iopub.status.busy": "2024-05-29T18:26:21.674657Z",
     "iopub.status.idle": "2024-05-29T18:27:01.258067Z",
     "shell.execute_reply": "2024-05-29T18:27:01.256716Z"
    },
    "papermill": {
     "duration": 39.614416,
     "end_time": "2024-05-29T18:27:01.261510",
     "exception": false,
     "start_time": "2024-05-29T18:26:21.647094",
     "status": "completed"
    },
    "tags": []
   },
   "outputs": [
    {
     "name": "stderr",
     "output_type": "stream",
     "text": [
      "/opt/conda/lib/python3.10/site-packages/sklearn/linear_model/_logistic.py:458: ConvergenceWarning: lbfgs failed to converge (status=1):\n",
      "STOP: TOTAL NO. of ITERATIONS REACHED LIMIT.\n",
      "\n",
      "Increase the number of iterations (max_iter) or scale the data as shown in:\n",
      "    https://scikit-learn.org/stable/modules/preprocessing.html\n",
      "Please also refer to the documentation for alternative solver options:\n",
      "    https://scikit-learn.org/stable/modules/linear_model.html#logistic-regression\n",
      "  n_iter_i = _check_optimize_result(\n",
      "/opt/conda/lib/python3.10/site-packages/sklearn/linear_model/_logistic.py:458: ConvergenceWarning: lbfgs failed to converge (status=1):\n",
      "STOP: TOTAL NO. of ITERATIONS REACHED LIMIT.\n",
      "\n",
      "Increase the number of iterations (max_iter) or scale the data as shown in:\n",
      "    https://scikit-learn.org/stable/modules/preprocessing.html\n",
      "Please also refer to the documentation for alternative solver options:\n",
      "    https://scikit-learn.org/stable/modules/linear_model.html#logistic-regression\n",
      "  n_iter_i = _check_optimize_result(\n",
      "/opt/conda/lib/python3.10/site-packages/sklearn/linear_model/_logistic.py:458: ConvergenceWarning: lbfgs failed to converge (status=1):\n",
      "STOP: TOTAL NO. of ITERATIONS REACHED LIMIT.\n",
      "\n",
      "Increase the number of iterations (max_iter) or scale the data as shown in:\n",
      "    https://scikit-learn.org/stable/modules/preprocessing.html\n",
      "Please also refer to the documentation for alternative solver options:\n",
      "    https://scikit-learn.org/stable/modules/linear_model.html#logistic-regression\n",
      "  n_iter_i = _check_optimize_result(\n",
      "/opt/conda/lib/python3.10/site-packages/sklearn/linear_model/_logistic.py:458: ConvergenceWarning: lbfgs failed to converge (status=1):\n",
      "STOP: TOTAL NO. of ITERATIONS REACHED LIMIT.\n",
      "\n",
      "Increase the number of iterations (max_iter) or scale the data as shown in:\n",
      "    https://scikit-learn.org/stable/modules/preprocessing.html\n",
      "Please also refer to the documentation for alternative solver options:\n",
      "    https://scikit-learn.org/stable/modules/linear_model.html#logistic-regression\n",
      "  n_iter_i = _check_optimize_result(\n",
      "/opt/conda/lib/python3.10/site-packages/sklearn/linear_model/_logistic.py:458: ConvergenceWarning: lbfgs failed to converge (status=1):\n",
      "STOP: TOTAL NO. of ITERATIONS REACHED LIMIT.\n",
      "\n",
      "Increase the number of iterations (max_iter) or scale the data as shown in:\n",
      "    https://scikit-learn.org/stable/modules/preprocessing.html\n",
      "Please also refer to the documentation for alternative solver options:\n",
      "    https://scikit-learn.org/stable/modules/linear_model.html#logistic-regression\n",
      "  n_iter_i = _check_optimize_result(\n",
      "/opt/conda/lib/python3.10/site-packages/sklearn/linear_model/_logistic.py:458: ConvergenceWarning: lbfgs failed to converge (status=1):\n",
      "STOP: TOTAL NO. of ITERATIONS REACHED LIMIT.\n",
      "\n",
      "Increase the number of iterations (max_iter) or scale the data as shown in:\n",
      "    https://scikit-learn.org/stable/modules/preprocessing.html\n",
      "Please also refer to the documentation for alternative solver options:\n",
      "    https://scikit-learn.org/stable/modules/linear_model.html#logistic-regression\n",
      "  n_iter_i = _check_optimize_result(\n",
      "/opt/conda/lib/python3.10/site-packages/sklearn/linear_model/_logistic.py:458: ConvergenceWarning: lbfgs failed to converge (status=1):\n",
      "STOP: TOTAL NO. of ITERATIONS REACHED LIMIT.\n",
      "\n",
      "Increase the number of iterations (max_iter) or scale the data as shown in:\n",
      "    https://scikit-learn.org/stable/modules/preprocessing.html\n",
      "Please also refer to the documentation for alternative solver options:\n",
      "    https://scikit-learn.org/stable/modules/linear_model.html#logistic-regression\n",
      "  n_iter_i = _check_optimize_result(\n",
      "/opt/conda/lib/python3.10/site-packages/sklearn/linear_model/_logistic.py:458: ConvergenceWarning: lbfgs failed to converge (status=1):\n",
      "STOP: TOTAL NO. of ITERATIONS REACHED LIMIT.\n",
      "\n",
      "Increase the number of iterations (max_iter) or scale the data as shown in:\n",
      "    https://scikit-learn.org/stable/modules/preprocessing.html\n",
      "Please also refer to the documentation for alternative solver options:\n",
      "    https://scikit-learn.org/stable/modules/linear_model.html#logistic-regression\n",
      "  n_iter_i = _check_optimize_result(\n",
      "/opt/conda/lib/python3.10/site-packages/sklearn/linear_model/_logistic.py:458: ConvergenceWarning: lbfgs failed to converge (status=1):\n",
      "STOP: TOTAL NO. of ITERATIONS REACHED LIMIT.\n",
      "\n",
      "Increase the number of iterations (max_iter) or scale the data as shown in:\n",
      "    https://scikit-learn.org/stable/modules/preprocessing.html\n",
      "Please also refer to the documentation for alternative solver options:\n",
      "    https://scikit-learn.org/stable/modules/linear_model.html#logistic-regression\n",
      "  n_iter_i = _check_optimize_result(\n",
      "/opt/conda/lib/python3.10/site-packages/sklearn/linear_model/_logistic.py:458: ConvergenceWarning: lbfgs failed to converge (status=1):\n",
      "STOP: TOTAL NO. of ITERATIONS REACHED LIMIT.\n",
      "\n",
      "Increase the number of iterations (max_iter) or scale the data as shown in:\n",
      "    https://scikit-learn.org/stable/modules/preprocessing.html\n",
      "Please also refer to the documentation for alternative solver options:\n",
      "    https://scikit-learn.org/stable/modules/linear_model.html#logistic-regression\n",
      "  n_iter_i = _check_optimize_result(\n",
      "/opt/conda/lib/python3.10/site-packages/sklearn/linear_model/_logistic.py:458: ConvergenceWarning: lbfgs failed to converge (status=1):\n",
      "STOP: TOTAL NO. of ITERATIONS REACHED LIMIT.\n",
      "\n",
      "Increase the number of iterations (max_iter) or scale the data as shown in:\n",
      "    https://scikit-learn.org/stable/modules/preprocessing.html\n",
      "Please also refer to the documentation for alternative solver options:\n",
      "    https://scikit-learn.org/stable/modules/linear_model.html#logistic-regression\n",
      "  n_iter_i = _check_optimize_result(\n",
      "/opt/conda/lib/python3.10/site-packages/sklearn/linear_model/_logistic.py:458: ConvergenceWarning: lbfgs failed to converge (status=1):\n",
      "STOP: TOTAL NO. of ITERATIONS REACHED LIMIT.\n",
      "\n",
      "Increase the number of iterations (max_iter) or scale the data as shown in:\n",
      "    https://scikit-learn.org/stable/modules/preprocessing.html\n",
      "Please also refer to the documentation for alternative solver options:\n",
      "    https://scikit-learn.org/stable/modules/linear_model.html#logistic-regression\n",
      "  n_iter_i = _check_optimize_result(\n",
      "/opt/conda/lib/python3.10/site-packages/sklearn/linear_model/_logistic.py:458: ConvergenceWarning: lbfgs failed to converge (status=1):\n",
      "STOP: TOTAL NO. of ITERATIONS REACHED LIMIT.\n",
      "\n",
      "Increase the number of iterations (max_iter) or scale the data as shown in:\n",
      "    https://scikit-learn.org/stable/modules/preprocessing.html\n",
      "Please also refer to the documentation for alternative solver options:\n",
      "    https://scikit-learn.org/stable/modules/linear_model.html#logistic-regression\n",
      "  n_iter_i = _check_optimize_result(\n",
      "/opt/conda/lib/python3.10/site-packages/sklearn/linear_model/_logistic.py:458: ConvergenceWarning: lbfgs failed to converge (status=1):\n",
      "STOP: TOTAL NO. of ITERATIONS REACHED LIMIT.\n",
      "\n",
      "Increase the number of iterations (max_iter) or scale the data as shown in:\n",
      "    https://scikit-learn.org/stable/modules/preprocessing.html\n",
      "Please also refer to the documentation for alternative solver options:\n",
      "    https://scikit-learn.org/stable/modules/linear_model.html#logistic-regression\n",
      "  n_iter_i = _check_optimize_result(\n",
      "/opt/conda/lib/python3.10/site-packages/sklearn/linear_model/_logistic.py:458: ConvergenceWarning: lbfgs failed to converge (status=1):\n",
      "STOP: TOTAL NO. of ITERATIONS REACHED LIMIT.\n",
      "\n",
      "Increase the number of iterations (max_iter) or scale the data as shown in:\n",
      "    https://scikit-learn.org/stable/modules/preprocessing.html\n",
      "Please also refer to the documentation for alternative solver options:\n",
      "    https://scikit-learn.org/stable/modules/linear_model.html#logistic-regression\n",
      "  n_iter_i = _check_optimize_result(\n",
      "/opt/conda/lib/python3.10/site-packages/sklearn/linear_model/_logistic.py:458: ConvergenceWarning: lbfgs failed to converge (status=1):\n",
      "STOP: TOTAL NO. of ITERATIONS REACHED LIMIT.\n",
      "\n",
      "Increase the number of iterations (max_iter) or scale the data as shown in:\n",
      "    https://scikit-learn.org/stable/modules/preprocessing.html\n",
      "Please also refer to the documentation for alternative solver options:\n",
      "    https://scikit-learn.org/stable/modules/linear_model.html#logistic-regression\n",
      "  n_iter_i = _check_optimize_result(\n",
      "/opt/conda/lib/python3.10/site-packages/sklearn/linear_model/_logistic.py:458: ConvergenceWarning: lbfgs failed to converge (status=1):\n",
      "STOP: TOTAL NO. of ITERATIONS REACHED LIMIT.\n",
      "\n",
      "Increase the number of iterations (max_iter) or scale the data as shown in:\n",
      "    https://scikit-learn.org/stable/modules/preprocessing.html\n",
      "Please also refer to the documentation for alternative solver options:\n",
      "    https://scikit-learn.org/stable/modules/linear_model.html#logistic-regression\n",
      "  n_iter_i = _check_optimize_result(\n",
      "/opt/conda/lib/python3.10/site-packages/sklearn/linear_model/_logistic.py:458: ConvergenceWarning: lbfgs failed to converge (status=1):\n",
      "STOP: TOTAL NO. of ITERATIONS REACHED LIMIT.\n",
      "\n",
      "Increase the number of iterations (max_iter) or scale the data as shown in:\n",
      "    https://scikit-learn.org/stable/modules/preprocessing.html\n",
      "Please also refer to the documentation for alternative solver options:\n",
      "    https://scikit-learn.org/stable/modules/linear_model.html#logistic-regression\n",
      "  n_iter_i = _check_optimize_result(\n",
      "/opt/conda/lib/python3.10/site-packages/sklearn/linear_model/_logistic.py:458: ConvergenceWarning: lbfgs failed to converge (status=1):\n",
      "STOP: TOTAL NO. of ITERATIONS REACHED LIMIT.\n",
      "\n",
      "Increase the number of iterations (max_iter) or scale the data as shown in:\n",
      "    https://scikit-learn.org/stable/modules/preprocessing.html\n",
      "Please also refer to the documentation for alternative solver options:\n",
      "    https://scikit-learn.org/stable/modules/linear_model.html#logistic-regression\n",
      "  n_iter_i = _check_optimize_result(\n",
      "/opt/conda/lib/python3.10/site-packages/sklearn/linear_model/_logistic.py:458: ConvergenceWarning: lbfgs failed to converge (status=1):\n",
      "STOP: TOTAL NO. of ITERATIONS REACHED LIMIT.\n",
      "\n",
      "Increase the number of iterations (max_iter) or scale the data as shown in:\n",
      "    https://scikit-learn.org/stable/modules/preprocessing.html\n",
      "Please also refer to the documentation for alternative solver options:\n",
      "    https://scikit-learn.org/stable/modules/linear_model.html#logistic-regression\n",
      "  n_iter_i = _check_optimize_result(\n",
      "/opt/conda/lib/python3.10/site-packages/sklearn/linear_model/_logistic.py:458: ConvergenceWarning: lbfgs failed to converge (status=1):\n",
      "STOP: TOTAL NO. of ITERATIONS REACHED LIMIT.\n",
      "\n",
      "Increase the number of iterations (max_iter) or scale the data as shown in:\n",
      "    https://scikit-learn.org/stable/modules/preprocessing.html\n",
      "Please also refer to the documentation for alternative solver options:\n",
      "    https://scikit-learn.org/stable/modules/linear_model.html#logistic-regression\n",
      "  n_iter_i = _check_optimize_result(\n",
      "/opt/conda/lib/python3.10/site-packages/sklearn/linear_model/_logistic.py:458: ConvergenceWarning: lbfgs failed to converge (status=1):\n",
      "STOP: TOTAL NO. of ITERATIONS REACHED LIMIT.\n",
      "\n",
      "Increase the number of iterations (max_iter) or scale the data as shown in:\n",
      "    https://scikit-learn.org/stable/modules/preprocessing.html\n",
      "Please also refer to the documentation for alternative solver options:\n",
      "    https://scikit-learn.org/stable/modules/linear_model.html#logistic-regression\n",
      "  n_iter_i = _check_optimize_result(\n",
      "/opt/conda/lib/python3.10/site-packages/sklearn/linear_model/_logistic.py:458: ConvergenceWarning: lbfgs failed to converge (status=1):\n",
      "STOP: TOTAL NO. of ITERATIONS REACHED LIMIT.\n",
      "\n",
      "Increase the number of iterations (max_iter) or scale the data as shown in:\n",
      "    https://scikit-learn.org/stable/modules/preprocessing.html\n",
      "Please also refer to the documentation for alternative solver options:\n",
      "    https://scikit-learn.org/stable/modules/linear_model.html#logistic-regression\n",
      "  n_iter_i = _check_optimize_result(\n",
      "/opt/conda/lib/python3.10/site-packages/sklearn/linear_model/_logistic.py:458: ConvergenceWarning: lbfgs failed to converge (status=1):\n",
      "STOP: TOTAL NO. of ITERATIONS REACHED LIMIT.\n",
      "\n",
      "Increase the number of iterations (max_iter) or scale the data as shown in:\n",
      "    https://scikit-learn.org/stable/modules/preprocessing.html\n",
      "Please also refer to the documentation for alternative solver options:\n",
      "    https://scikit-learn.org/stable/modules/linear_model.html#logistic-regression\n",
      "  n_iter_i = _check_optimize_result(\n",
      "/opt/conda/lib/python3.10/site-packages/sklearn/linear_model/_logistic.py:458: ConvergenceWarning: lbfgs failed to converge (status=1):\n",
      "STOP: TOTAL NO. of ITERATIONS REACHED LIMIT.\n",
      "\n",
      "Increase the number of iterations (max_iter) or scale the data as shown in:\n",
      "    https://scikit-learn.org/stable/modules/preprocessing.html\n",
      "Please also refer to the documentation for alternative solver options:\n",
      "    https://scikit-learn.org/stable/modules/linear_model.html#logistic-regression\n",
      "  n_iter_i = _check_optimize_result(\n",
      "/opt/conda/lib/python3.10/site-packages/sklearn/linear_model/_logistic.py:458: ConvergenceWarning: lbfgs failed to converge (status=1):\n",
      "STOP: TOTAL NO. of ITERATIONS REACHED LIMIT.\n",
      "\n",
      "Increase the number of iterations (max_iter) or scale the data as shown in:\n",
      "    https://scikit-learn.org/stable/modules/preprocessing.html\n",
      "Please also refer to the documentation for alternative solver options:\n",
      "    https://scikit-learn.org/stable/modules/linear_model.html#logistic-regression\n",
      "  n_iter_i = _check_optimize_result(\n",
      "/opt/conda/lib/python3.10/site-packages/sklearn/linear_model/_logistic.py:458: ConvergenceWarning: lbfgs failed to converge (status=1):\n",
      "STOP: TOTAL NO. of ITERATIONS REACHED LIMIT.\n",
      "\n",
      "Increase the number of iterations (max_iter) or scale the data as shown in:\n",
      "    https://scikit-learn.org/stable/modules/preprocessing.html\n",
      "Please also refer to the documentation for alternative solver options:\n",
      "    https://scikit-learn.org/stable/modules/linear_model.html#logistic-regression\n",
      "  n_iter_i = _check_optimize_result(\n",
      "/opt/conda/lib/python3.10/site-packages/sklearn/linear_model/_logistic.py:458: ConvergenceWarning: lbfgs failed to converge (status=1):\n",
      "STOP: TOTAL NO. of ITERATIONS REACHED LIMIT.\n",
      "\n",
      "Increase the number of iterations (max_iter) or scale the data as shown in:\n",
      "    https://scikit-learn.org/stable/modules/preprocessing.html\n",
      "Please also refer to the documentation for alternative solver options:\n",
      "    https://scikit-learn.org/stable/modules/linear_model.html#logistic-regression\n",
      "  n_iter_i = _check_optimize_result(\n",
      "/opt/conda/lib/python3.10/site-packages/sklearn/linear_model/_logistic.py:458: ConvergenceWarning: lbfgs failed to converge (status=1):\n",
      "STOP: TOTAL NO. of ITERATIONS REACHED LIMIT.\n",
      "\n",
      "Increase the number of iterations (max_iter) or scale the data as shown in:\n",
      "    https://scikit-learn.org/stable/modules/preprocessing.html\n",
      "Please also refer to the documentation for alternative solver options:\n",
      "    https://scikit-learn.org/stable/modules/linear_model.html#logistic-regression\n",
      "  n_iter_i = _check_optimize_result(\n",
      "/opt/conda/lib/python3.10/site-packages/sklearn/linear_model/_logistic.py:458: ConvergenceWarning: lbfgs failed to converge (status=1):\n",
      "STOP: TOTAL NO. of ITERATIONS REACHED LIMIT.\n",
      "\n",
      "Increase the number of iterations (max_iter) or scale the data as shown in:\n",
      "    https://scikit-learn.org/stable/modules/preprocessing.html\n",
      "Please also refer to the documentation for alternative solver options:\n",
      "    https://scikit-learn.org/stable/modules/linear_model.html#logistic-regression\n",
      "  n_iter_i = _check_optimize_result(\n"
     ]
    },
    {
     "name": "stdout",
     "output_type": "stream",
     "text": [
      "Ensemble Accuracy: [0.8324022346368715, 0.8324022346368715, 0.8212290502793296, 0.8379888268156425, 0.8212290502793296]\n",
      "Average Ensemble Accuracy (5 iterations): 0.8290502793296088\n"
     ]
    }
   ],
   "source": [
    "from sklearn.ensemble import StackingClassifier\n",
    "from sklearn.neighbors import KNeighborsClassifier\n",
    "\n",
    "# Define individual models with best parameters\n",
    "base_models = [\n",
    "    ('logistic', LogisticRegression(C=100, penalty='l2')),\n",
    "    ('random_forest', RandomForestClassifier(max_depth=20, min_samples_leaf=1, min_samples_split=2, n_estimators=300)),\n",
    "    ('svc', SVC(C=1, kernel='linear', gamma='scale')),\n",
    "    ('knn', KNeighborsClassifier(algorithm='brute', n_neighbors=9, weights='distance')),\n",
    "    ('xgb', XGBClassifier(n_estimators=200, max_depth=3, learning_rate= 0.01, subsample=0.8, colsample_bytree=0.7))\n",
    "]\n",
    "  # Define meta-model\n",
    "meta_model = RandomForestClassifier(n_estimators=100, random_state=42)\n",
    "\n",
    "# Create Stacking Classifier ensemble\n",
    "stacking_clf = StackingClassifier(estimators=base_models, final_estimator=meta_model)\n",
    "\n",
    "# Create a pipeline for the ensemble with the same preprocessor\n",
    "stacking_pipeline = Pipeline(steps=[\n",
    "    ('preprocessor', preprocessor),  # Using the same preprocessor\n",
    "    ('classifier', stacking_clf)\n",
    "])\n",
    "\n",
    "# Test the ensemble 5 times\n",
    "ensemble_scores = []\n",
    "for i in range(5):\n",
    "    # Fit the Stacking Classifier ensemble\n",
    "    stacking_pipeline.fit(X_train, y_train)\n",
    "\n",
    "    # Evaluate the ensemble on the validation set\n",
    "    ensemble_score = stacking_pipeline.score(X_val, y_val)\n",
    "    ensemble_scores.append(ensemble_score)\n",
    "    \n",
    "print('Ensemble Accuracy:', ensemble_scores)\n",
    "# Calculate the average ensemble score\n",
    "average_ensemble_score_Stack_ALL = sum(ensemble_scores) / len(ensemble_scores)\n",
    "print('Average Ensemble Accuracy (5 iterations):', average_ensemble_score_Stack_ALL)\n"
   ]
  },
  {
   "cell_type": "markdown",
   "id": "acfaf0a2",
   "metadata": {
    "papermill": {
     "duration": 0.026774,
     "end_time": "2024-05-29T18:27:01.314631",
     "exception": false,
     "start_time": "2024-05-29T18:27:01.287857",
     "status": "completed"
    },
    "tags": []
   },
   "source": [
    "### KNN RF SVM"
   ]
  },
  {
   "cell_type": "code",
   "execution_count": 27,
   "id": "ba01920e",
   "metadata": {
    "execution": {
     "iopub.execute_input": "2024-05-29T18:27:01.369744Z",
     "iopub.status.busy": "2024-05-29T18:27:01.369267Z",
     "iopub.status.idle": "2024-05-29T18:27:35.687594Z",
     "shell.execute_reply": "2024-05-29T18:27:35.686210Z"
    },
    "papermill": {
     "duration": 34.376183,
     "end_time": "2024-05-29T18:27:35.717011",
     "exception": false,
     "start_time": "2024-05-29T18:27:01.340828",
     "status": "completed"
    },
    "tags": []
   },
   "outputs": [
    {
     "name": "stdout",
     "output_type": "stream",
     "text": [
      "Ensemble Accuracy: [0.8268156424581006, 0.8435754189944135, 0.8268156424581006, 0.8379888268156425, 0.8268156424581006]\n",
      "Average Ensemble Accuracy (5 iterations): 0.8324022346368715\n"
     ]
    }
   ],
   "source": [
    "from sklearn.ensemble import StackingClassifier\n",
    "from sklearn.neighbors import KNeighborsClassifier\n",
    "\n",
    "# Define individual models with best parameters\n",
    "base_models = [\n",
    "    ('random_forest', RandomForestClassifier(max_depth=20, min_samples_leaf=1, min_samples_split=2, n_estimators=300)),\n",
    "    ('svc', SVC(C=1, kernel='linear', gamma='scale')),\n",
    "    ('knn', KNeighborsClassifier(algorithm='brute', n_neighbors=9, weights='distance'))\n",
    "]\n",
    "  # Define meta-model\n",
    "meta_model = RandomForestClassifier(n_estimators=100, random_state=42)\n",
    "\n",
    "# Create Stacking Classifier ensemble\n",
    "stacking_clf = StackingClassifier(estimators=base_models, final_estimator=meta_model)\n",
    "\n",
    "# Create a pipeline for the ensemble with the same preprocessor\n",
    "stacking_pipeline = Pipeline(steps=[\n",
    "    ('preprocessor', preprocessor),  # Using the same preprocessor\n",
    "    ('classifier', stacking_clf)\n",
    "])\n",
    "\n",
    "# Test the ensemble 5 times\n",
    "ensemble_scores = []\n",
    "for i in range(5):\n",
    "    # Fit the Stacking Classifier ensemble\n",
    "    stacking_pipeline.fit(X_train, y_train)\n",
    "\n",
    "    # Evaluate the ensemble on the validation set\n",
    "    ensemble_score = stacking_pipeline.score(X_val, y_val)\n",
    "    ensemble_scores.append(ensemble_score)\n",
    "    \n",
    "print('Ensemble Accuracy:', ensemble_scores)\n",
    "# Calculate the average ensemble score\n",
    "average_ensemble_score_Stack_KNN_RF_SVM = sum(ensemble_scores) / len(ensemble_scores)\n",
    "print('Average Ensemble Accuracy (5 iterations):', average_ensemble_score_Stack_KNN_RF_SVM)\n"
   ]
  },
  {
   "cell_type": "markdown",
   "id": "9484a592",
   "metadata": {
    "papermill": {
     "duration": 0.026298,
     "end_time": "2024-05-29T18:27:35.770129",
     "exception": false,
     "start_time": "2024-05-29T18:27:35.743831",
     "status": "completed"
    },
    "tags": []
   },
   "source": [
    "### XGBOOST RF SVM"
   ]
  },
  {
   "cell_type": "code",
   "execution_count": 28,
   "id": "f3eff255",
   "metadata": {
    "execution": {
     "iopub.execute_input": "2024-05-29T18:27:35.828117Z",
     "iopub.status.busy": "2024-05-29T18:27:35.827168Z",
     "iopub.status.idle": "2024-05-29T18:28:14.958806Z",
     "shell.execute_reply": "2024-05-29T18:28:14.957223Z"
    },
    "papermill": {
     "duration": 39.191805,
     "end_time": "2024-05-29T18:28:14.988771",
     "exception": false,
     "start_time": "2024-05-29T18:27:35.796966",
     "status": "completed"
    },
    "tags": []
   },
   "outputs": [
    {
     "name": "stdout",
     "output_type": "stream",
     "text": [
      "Ensemble Accuracy: [0.8435754189944135, 0.8156424581005587, 0.8435754189944135, 0.8268156424581006, 0.8435754189944135]\n",
      "Average Ensemble Accuracy (5 iterations): 0.8346368715083801\n"
     ]
    }
   ],
   "source": [
    "from sklearn.ensemble import StackingClassifier\n",
    "from sklearn.neighbors import KNeighborsClassifier\n",
    "\n",
    "# Define individual models with best parameters\n",
    "base_models = [\n",
    "    ('random_forest', RandomForestClassifier(max_depth=20, min_samples_leaf=1, min_samples_split=2, n_estimators=300)),\n",
    "    ('svc', SVC(C=1, kernel='linear', gamma='scale')),\n",
    "    ('xgb', XGBClassifier(n_estimators=200, max_depth=3, learning_rate= 0.01, subsample=0.8, colsample_bytree=0.7))\n",
    "]\n",
    "  # Define meta-model\n",
    "meta_model = RandomForestClassifier(n_estimators=100, random_state=42)\n",
    "\n",
    "# Create Stacking Classifier ensemble\n",
    "stacking_clf = StackingClassifier(estimators=base_models, final_estimator=meta_model)\n",
    "\n",
    "# Create a pipeline for the ensemble with the same preprocessor\n",
    "stacking_pipeline = Pipeline(steps=[\n",
    "    ('preprocessor', preprocessor),  # Using the same preprocessor\n",
    "    ('classifier', stacking_clf)\n",
    "])\n",
    "\n",
    "# Test the ensemble 5 times\n",
    "ensemble_scores = []\n",
    "for i in range(5):\n",
    "    # Fit the Stacking Classifier ensemble\n",
    "    stacking_pipeline.fit(X_train, y_train)\n",
    "\n",
    "    # Evaluate the ensemble on the validation set\n",
    "    ensemble_score = stacking_pipeline.score(X_val, y_val)\n",
    "    ensemble_scores.append(ensemble_score)\n",
    "    \n",
    "print('Ensemble Accuracy:', ensemble_scores)\n",
    "# Calculate the average ensemble score\n",
    "average_ensemble_score_Stack_RF_XG_SVM = sum(ensemble_scores) / len(ensemble_scores)\n",
    "print('Average Ensemble Accuracy (5 iterations):', average_ensemble_score_Stack_RF_XG_SVM)\n"
   ]
  },
  {
   "cell_type": "markdown",
   "id": "854cb3ef",
   "metadata": {
    "papermill": {
     "duration": 0.027783,
     "end_time": "2024-05-29T18:28:15.045772",
     "exception": false,
     "start_time": "2024-05-29T18:28:15.017989",
     "status": "completed"
    },
    "tags": []
   },
   "source": [
    "### Comparaison Ensembles "
   ]
  },
  {
   "cell_type": "code",
   "execution_count": 29,
   "id": "3bafe08b",
   "metadata": {
    "execution": {
     "iopub.execute_input": "2024-05-29T18:28:15.106265Z",
     "iopub.status.busy": "2024-05-29T18:28:15.105233Z",
     "iopub.status.idle": "2024-05-29T18:28:15.468560Z",
     "shell.execute_reply": "2024-05-29T18:28:15.467194Z"
    },
    "papermill": {
     "duration": 0.397548,
     "end_time": "2024-05-29T18:28:15.472764",
     "exception": false,
     "start_time": "2024-05-29T18:28:15.075216",
     "status": "completed"
    },
    "tags": []
   },
   "outputs": [
    {
     "data": {
      "image/png": "[encoded data removed]",
      "text/plain": [
       "<Figure size 1000x600 with 1 Axes>"
      ]
     },
     "metadata": {},
     "output_type": "display_data"
    }
   ],
   "source": [
    "\n",
    "# Accuracy scores of each model\n",
    "accuracies = [ average_ensemble_score_voting_ALL, average_ensemble_score_voting_RF_KNN_SVM, average_ensemble_score_voting_RF_XG_SVM, average_ensemble_score_Stack_ALL, average_ensemble_score_Stack_KNN_RF_SVM, average_ensemble_score_Stack_RF_XG_SVM]\n",
    "models = ['Voting ALL', 'Voting RF-KNN-SVM', 'Voting RF-Xgboost-SVM', 'Stacking ALL', 'Stacking RF-KNN-SVM', 'Stacking RF-Xgboost-SVM']\n",
    "\n",
    "# Plotting\n",
    "plt.figure(figsize=(10, 6))\n",
    "plt.bar(models, accuracies, color='skyblue')\n",
    "plt.title('Best Performance of Each ensemble')\n",
    "plt.xlabel('Model')\n",
    "plt.ylabel('Accuracy')\n",
    "plt.ylim(0.7, 1.0)  # Set y-axis limits\n",
    "plt.xticks(rotation=45)  # Rotate x-axis labels for better readability\n",
    "plt.show()"
   ]
  },
  {
   "cell_type": "markdown",
   "id": "0031dc72",
   "metadata": {
    "papermill": {
     "duration": 0.027778,
     "end_time": "2024-05-29T18:28:15.529361",
     "exception": false,
     "start_time": "2024-05-29T18:28:15.501583",
     "status": "completed"
    },
    "tags": []
   },
   "source": [
    " # Best result: Ensemble Stacking :Random forest, Xgboost and SVM has the best performance with 83.2 %"
   ]
  }
 ],
 "metadata": {
  "kaggle": {
   "accelerator": "none",
   "dataSources": [
    {
     "databundleVersionId": 26502,
     "sourceId": 3136,
     "sourceType": "competition"
    }
   ],
   "dockerImageVersionId": 30698,
   "isGpuEnabled": false,
   "isInternetEnabled": false,
   "language": "python",
   "sourceType": "notebook"
  },
  "kernelspec": {
   "display_name": "Python 3",
   "language": "python",
   "name": "python3"
  },
  "language_info": {
   "codemirror_mode": {
    "name": "ipython",
    "version": 3
   },
   "file_extension": ".py",
   "mimetype": "text/x-python",
   "name": "python",
   "nbconvert_exporter": "python",
   "pygments_lexer": "ipython3",
   "version": "3.10.13"
  },
  "papermill": {
   "default_parameters": {},
   "duration": 667.632975,
   "end_time": "2024-05-29T18:28:16.687614",
   "environment_variables": {},
   "exception": null,
   "input_path": "__notebook__.ipynb",
   "output_path": "__notebook__.ipynb",
   "parameters": {},
   "start_time": "2024-05-29T18:17:09.054639",
   "version": "2.5.0"
  }
 },
 "nbformat": 4,
 "nbformat_minor": 5
}
